{
  "cells": [
    {
      "cell_type": "code",
      "source": [
        "pip install gym[classic_control]"
      ],
      "metadata": {
        "colab": {
          "base_uri": "https://localhost:8080/"
        },
        "id": "nhqSyfgj_5FJ",
        "outputId": "b4a3bd8a-da60-4176-8d06-b70c214122b1"
      },
      "id": "nhqSyfgj_5FJ",
      "execution_count": 1,
      "outputs": [
        {
          "output_type": "stream",
          "name": "stdout",
          "text": [
            "Looking in indexes: https://pypi.org/simple, https://us-python.pkg.dev/colab-wheels/public/simple/\n",
            "Requirement already satisfied: gym[classic_control] in /usr/local/lib/python3.7/dist-packages (0.25.2)\n",
            "Requirement already satisfied: importlib-metadata>=4.8.0 in /usr/local/lib/python3.7/dist-packages (from gym[classic_control]) (4.13.0)\n",
            "Requirement already satisfied: cloudpickle>=1.2.0 in /usr/local/lib/python3.7/dist-packages (from gym[classic_control]) (1.5.0)\n",
            "Requirement already satisfied: numpy>=1.18.0 in /usr/local/lib/python3.7/dist-packages (from gym[classic_control]) (1.21.6)\n",
            "Requirement already satisfied: gym-notices>=0.0.4 in /usr/local/lib/python3.7/dist-packages (from gym[classic_control]) (0.0.8)\n",
            "Requirement already satisfied: pygame==2.1.0 in /usr/local/lib/python3.7/dist-packages (from gym[classic_control]) (2.1.0)\n",
            "Requirement already satisfied: zipp>=0.5 in /usr/local/lib/python3.7/dist-packages (from importlib-metadata>=4.8.0->gym[classic_control]) (3.10.0)\n",
            "Requirement already satisfied: typing-extensions>=3.6.4 in /usr/local/lib/python3.7/dist-packages (from importlib-metadata>=4.8.0->gym[classic_control]) (4.1.1)\n"
          ]
        }
      ]
    },
    {
      "cell_type": "markdown",
      "id": "3e646804",
      "metadata": {
        "id": "3e646804"
      },
      "source": [
        "# Cross-Entropy Methods (CEM) on MountainCarContinuous-v0\n",
        "\n",
        "> In this post, We will take a hands-on-lab of Cross-Entropy Methods (CEM for short) on openAI gym MountainCarContinuous-v0 environment. This is the coding exercise from udacity Deep Reinforcement Learning Nanodegree.\n",
        "\n",
        "- toc: true \n",
        "- badges: true\n",
        "- comments: true\n",
        "- author: Chanseok Kang\n",
        "- categories: [Python, Reinforcement_Learning, PyTorch, Udacity]\n",
        "- image: images/MountainCarContinuous-v0.gif"
      ]
    },
    {
      "cell_type": "markdown",
      "id": "b6e1d4f5",
      "metadata": {
        "id": "b6e1d4f5"
      },
      "source": [
        "## Cross-Entropy Methods (CEM)\n",
        "---\n",
        "In this notebook, you will implement CEM on OpenAI Gym's MountainCarContinuous-v0 environment. For summary, The **cross-entropy method** is sort of Black box optimization and it iteratively suggests a small number of neighboring policies, and uses a small percentage of the best performing policies to calculate a new estimate.\n",
        "\n",
        "### Import the Necessary Packages"
      ]
    },
    {
      "cell_type": "code",
      "execution_count": 2,
      "id": "063a557c",
      "metadata": {
        "id": "063a557c"
      },
      "outputs": [],
      "source": [
        "import gym\n",
        "import math\n",
        "import numpy as np\n",
        "from collections import deque\n",
        "import matplotlib.pyplot as plt\n",
        "\n",
        "import torch\n",
        "import torch.nn as nn\n",
        "import torch.nn.functional as F\n",
        "from torch.autograd import Variable\n",
        "\n",
        "import base64, io\n",
        "\n",
        "# For visualization\n",
        "from gym.wrappers.monitoring import video_recorder\n",
        "from IPython.display import HTML\n",
        "from IPython import display \n",
        "import glob"
      ]
    },
    {
      "cell_type": "code",
      "execution_count": 3,
      "id": "de727785",
      "metadata": {
        "colab": {
          "base_uri": "https://localhost:8080/"
        },
        "id": "de727785",
        "outputId": "8b721711-ceb4-4da7-b39e-00c2eb9096cd"
      },
      "outputs": [
        {
          "output_type": "execute_result",
          "data": {
            "text/plain": [
              "device(type='cpu')"
            ]
          },
          "metadata": {},
          "execution_count": 3
        }
      ],
      "source": [
        "device = torch.device(\"cuda:0\" if torch.cuda.is_available() else \"cpu\")\n",
        "device"
      ]
    },
    {
      "cell_type": "markdown",
      "id": "67faf368",
      "metadata": {
        "id": "67faf368"
      },
      "source": [
        "### Instantiate the Environment and Agent\n",
        "\n",
        "MountainCar environment has two types: Discrete and Continuous. In this notebook, we used Continuous version of MountainCar. That is, we can move the car to the left (or right) precisely."
      ]
    },
    {
      "cell_type": "code",
      "execution_count": 4,
      "id": "c6c02db1",
      "metadata": {
        "colab": {
          "base_uri": "https://localhost:8080/"
        },
        "id": "c6c02db1",
        "outputId": "cb965c9e-ea67-473f-a6e8-89177bbb1213"
      },
      "outputs": [
        {
          "output_type": "stream",
          "name": "stdout",
          "text": [
            "observation space: Box([-1.2  -0.07], [0.6  0.07], (2,), float32)\n",
            "action space: Box(-1.0, 1.0, (1,), float32)\n",
            "  - low: [-1.]\n",
            "  - high: [1.]\n"
          ]
        },
        {
          "output_type": "stream",
          "name": "stderr",
          "text": [
            "/usr/local/lib/python3.7/dist-packages/gym/core.py:318: DeprecationWarning: \u001b[33mWARN: Initializing wrapper in old step API which returns one bool instead of two. It is recommended to set `new_step_api=True` to use new step API. This will be the default behaviour in future.\u001b[0m\n",
            "  \"Initializing wrapper in old step API which returns one bool instead of two. It is recommended to set `new_step_api=True` to use new step API. This will be the default behaviour in future.\"\n",
            "/usr/local/lib/python3.7/dist-packages/gym/wrappers/step_api_compatibility.py:40: DeprecationWarning: \u001b[33mWARN: Initializing environment in old step API which returns one bool instead of two. It is recommended to set `new_step_api=True` to use new step API. This will be the default behaviour in future.\u001b[0m\n",
            "  \"Initializing environment in old step API which returns one bool instead of two. It is recommended to set `new_step_api=True` to use new step API. This will be the default behaviour in future.\"\n",
            "/usr/local/lib/python3.7/dist-packages/gym/core.py:257: DeprecationWarning: \u001b[33mWARN: Function `env.seed(seed)` is marked as deprecated and will be removed in the future. Please use `env.reset(seed=seed)` instead.\u001b[0m\n",
            "  \"Function `env.seed(seed)` is marked as deprecated and will be removed in the future. \"\n"
          ]
        }
      ],
      "source": [
        "env = gym.make('MountainCarContinuous-v0')\n",
        "env.seed(101)\n",
        "np.random.seed(101)\n",
        "\n",
        "print('observation space:', env.observation_space)\n",
        "print('action space:', env.action_space)\n",
        "print('  - low:', env.action_space.low)\n",
        "print('  - high:', env.action_space.high)"
      ]
    },
    {
      "cell_type": "markdown",
      "id": "d6ebff61",
      "metadata": {
        "id": "d6ebff61"
      },
      "source": [
        "### Define Agent "
      ]
    },
    {
      "cell_type": "code",
      "execution_count": 5,
      "id": "8a769b19",
      "metadata": {
        "id": "8a769b19"
      },
      "outputs": [],
      "source": [
        "class Agent(nn.Module):\n",
        "    def __init__(self, env, h_size=16):\n",
        "        super(Agent, self).__init__()\n",
        "        self.env = env\n",
        "        # state, hidden layer, action sizes\n",
        "        self.s_size = env.observation_space.shape[0]\n",
        "        self.h_size = h_size\n",
        "        self.a_size = env.action_space.shape[0]\n",
        "        # define layers (we used 2 layers)\n",
        "        self.fc1 = nn.Linear(self.s_size, self.h_size)\n",
        "        self.fc2 = nn.Linear(self.h_size, self.a_size)\n",
        "        \n",
        "    def set_weights(self, weights):\n",
        "        s_size = self.s_size\n",
        "        h_size = self.h_size\n",
        "        a_size = self.a_size\n",
        "        # separate the weights for each layer\n",
        "        fc1_end = (s_size * h_size) + h_size\n",
        "        fc1_W = torch.from_numpy(weights[:s_size*h_size].reshape(s_size, h_size))\n",
        "        fc1_b = torch.from_numpy(weights[s_size*h_size:fc1_end])\n",
        "        fc2_W = torch.from_numpy(weights[fc1_end:fc1_end+(h_size*a_size)].reshape(h_size, a_size))\n",
        "        fc2_b = torch.from_numpy(weights[fc1_end+(h_size*a_size):])\n",
        "        # set the weights for each layer\n",
        "        self.fc1.weight.data.copy_(fc1_W.view_as(self.fc1.weight.data))\n",
        "        self.fc1.bias.data.copy_(fc1_b.view_as(self.fc1.bias.data))\n",
        "        self.fc2.weight.data.copy_(fc2_W.view_as(self.fc2.weight.data))\n",
        "        self.fc2.bias.data.copy_(fc2_b.view_as(self.fc2.bias.data))\n",
        "    \n",
        "    def get_weights_dim(self):\n",
        "        return (self.s_size + 1) * self.h_size + (self.h_size + 1) * self.a_size\n",
        "        \n",
        "    def forward(self, x):\n",
        "        x = F.relu(self.fc1(x))\n",
        "        x = torch.tanh(self.fc2(x))\n",
        "        return x.cpu().data\n",
        "    \n",
        "    def act(self, state):\n",
        "        state = torch.from_numpy(state).float().to(device)\n",
        "        with torch.no_grad():\n",
        "            action = self.forward(state)\n",
        "        return action\n",
        "        \n",
        "    def evaluate(self, weights, gamma=1.0, max_t=5000):\n",
        "        self.set_weights(weights)\n",
        "        episode_return = 0.0\n",
        "        state = self.env.reset()\n",
        "        for t in range(max_t):\n",
        "            state = torch.from_numpy(state).float().to(device)\n",
        "            action = self.forward(state)\n",
        "            state, reward, done, _ = self.env.step(action)\n",
        "            episode_return += reward * math.pow(gamma, t)\n",
        "            if done:\n",
        "                break\n",
        "        return episode_return"
      ]
    },
    {
      "cell_type": "markdown",
      "id": "ea18646f",
      "metadata": {
        "id": "ea18646f"
      },
      "source": [
        "### Cross Entropy Method"
      ]
    },
    {
      "cell_type": "code",
      "execution_count": 6,
      "id": "e0c930e7",
      "metadata": {
        "id": "e0c930e7"
      },
      "outputs": [],
      "source": [
        "def cem(agent, n_iterations=500, max_t=1000, gamma=1.0, print_every=10, pop_size=50, elite_frac=0.2, sigma=0.5):\n",
        "    \"\"\"PyTorch implementation of the cross-entropy method.\n",
        "        \n",
        "    Params\n",
        "    ======\n",
        "        Agent (object): agent instance\n",
        "        n_iterations (int): maximum number of training iterations\n",
        "        max_t (int): maximum number of timesteps per episode\n",
        "        gamma (float): discount rate\n",
        "        print_every (int): how often to print average score (over last 100 episodes)\n",
        "        pop_size (int): size of population at each iteration\n",
        "        elite_frac (float): percentage of top performers to use in update\n",
        "        sigma (float): standard deviation of additive noise\n",
        "    \"\"\"\n",
        "    n_elite=int(pop_size*elite_frac)\n",
        "\n",
        "    scores_deque = deque(maxlen=100)\n",
        "    scores = []\n",
        "    # Initialize the weight with random noise\n",
        "    best_weight = sigma * np.random.randn(agent.get_weights_dim())\n",
        "\n",
        "    for i_iteration in range(1, n_iterations+1):\n",
        "        # Define the cadidates and get the reward of each candidate\n",
        "        weights_pop = [best_weight + (sigma * np.random.randn(agent.get_weights_dim())) for i in range(pop_size)]\n",
        "        rewards = np.array([agent.evaluate(weights, gamma, max_t) for weights in weights_pop])\n",
        "        \n",
        "        # Select best candidates from collected rewards\n",
        "        elite_idxs = rewards.argsort()[-n_elite:]\n",
        "        elite_weights = [weights_pop[i] for i in elite_idxs]\n",
        "        best_weight = np.array(elite_weights).mean(axis=0)\n",
        "\n",
        "        reward = agent.evaluate(best_weight, gamma=1.0)\n",
        "        scores_deque.append(reward)\n",
        "        scores.append(reward)\n",
        "        \n",
        "        torch.save(agent.state_dict(), 'checkpoint.pth')\n",
        "        \n",
        "        if i_iteration % print_every == 0:\n",
        "            print('Episode {}\\tAverage Score: {:.2f}'.format(i_iteration, np.mean(scores_deque)))\n",
        "\n",
        "        if np.mean(scores_deque)>=90.0:\n",
        "            print('\\nEnvironment solved in {:d} iterations!\\tAverage Score: {:.2f}'.format(i_iteration-100, np.mean(scores_deque)))\n",
        "            break\n",
        "    return scores"
      ]
    },
    {
      "cell_type": "markdown",
      "id": "3735df07",
      "metadata": {
        "id": "3735df07"
      },
      "source": [
        "### Run"
      ]
    },
    {
      "cell_type": "code",
      "execution_count": 7,
      "id": "4c662c01",
      "metadata": {
        "colab": {
          "base_uri": "https://localhost:8080/"
        },
        "id": "4c662c01",
        "outputId": "eb2815a2-1a22-4f8c-ba0f-811bf5e6847d"
      },
      "outputs": [
        {
          "output_type": "stream",
          "name": "stdout",
          "text": [
            "Episode 10\tAverage Score: -1.20\n",
            "Episode 20\tAverage Score: -2.08\n",
            "Episode 30\tAverage Score: -1.81\n",
            "Episode 40\tAverage Score: -1.69\n",
            "Episode 50\tAverage Score: -1.50\n",
            "Episode 60\tAverage Score: -1.46\n",
            "Episode 70\tAverage Score: -1.30\n",
            "Episode 80\tAverage Score: -1.24\n",
            "Episode 90\tAverage Score: -1.13\n",
            "Episode 100\tAverage Score: -1.05\n",
            "Episode 110\tAverage Score: -0.95\n",
            "Episode 120\tAverage Score: -0.70\n",
            "Episode 130\tAverage Score: -0.61\n",
            "Episode 140\tAverage Score: -0.53\n",
            "Episode 150\tAverage Score: -0.48\n",
            "Episode 160\tAverage Score: -0.39\n",
            "Episode 170\tAverage Score: -0.36\n",
            "Episode 180\tAverage Score: -0.32\n",
            "Episode 190\tAverage Score: -0.32\n",
            "Episode 200\tAverage Score: -0.32\n",
            "Episode 210\tAverage Score: -0.31\n",
            "Episode 220\tAverage Score: -0.61\n",
            "Episode 230\tAverage Score: 5.23\n",
            "Episode 240\tAverage Score: 14.61\n",
            "Episode 250\tAverage Score: 24.13\n",
            "Episode 260\tAverage Score: 33.45\n",
            "Episode 270\tAverage Score: 42.87\n",
            "Episode 280\tAverage Score: 52.36\n",
            "Episode 290\tAverage Score: 61.70\n",
            "Episode 300\tAverage Score: 71.09\n",
            "Episode 310\tAverage Score: 80.45\n",
            "Episode 320\tAverage Score: 90.04\n",
            "\n",
            "Environment solved in 220 iterations!\tAverage Score: 90.04\n"
          ]
        }
      ],
      "source": [
        "agent = Agent(env).to(device)\n",
        "scores = cem(agent)"
      ]
    },
    {
      "cell_type": "markdown",
      "id": "51dea6d9",
      "metadata": {
        "id": "51dea6d9"
      },
      "source": [
        "### Plot the learning progress"
      ]
    },
    {
      "cell_type": "code",
      "execution_count": 8,
      "id": "abff3eba",
      "metadata": {
        "colab": {
          "base_uri": "https://localhost:8080/",
          "height": 281
        },
        "id": "abff3eba",
        "outputId": "05606259-60bc-4699-f6ac-7d474c30b3ef"
      },
      "outputs": [
        {
          "output_type": "display_data",
          "data": {
            "text/plain": [
              "<Figure size 432x288 with 1 Axes>"
            ],
            "image/png": "[encoded data removed]"
          },
          "metadata": {
            "needs_background": "light"
          }
        }
      ],
      "source": [
        "# plot the scores\n",
        "fig = plt.figure()\n",
        "ax = fig.add_subplot(111)\n",
        "plt.plot(np.arange(1, len(scores)+1), scores)\n",
        "plt.ylabel('Score')\n",
        "plt.xlabel('Episode #')\n",
        "plt.show()"
      ]
    },
    {
      "cell_type": "markdown",
      "id": "75403f40",
      "metadata": {
        "id": "75403f40"
      },
      "source": [
        "### Animate it with Video"
      ]
    },
    {
      "cell_type": "code",
      "execution_count": 9,
      "id": "7fae8a12",
      "metadata": {
        "id": "7fae8a12"
      },
      "outputs": [],
      "source": [
        "def show_video(env_name):\n",
        "    mp4list = glob.glob('video/*.mp4')\n",
        "    if len(mp4list) > 0:\n",
        "        mp4 = 'video/{}.mp4'.format(env_name)\n",
        "        video = io.open(mp4, 'r+b').read()\n",
        "        encoded = base64.b64encode(video)\n",
        "        display.display(HTML(data='''<video alt=\"test\" autoplay \n",
        "                loop controls style=\"height: 400px;\">\n",
        "                <source src=\"data:video/mp4;base64,{0}\" type=\"video/mp4\" />\n",
        "             </video>'''.format(encoded.decode('ascii'))))\n",
        "    else:\n",
        "        print(\"Could not find video\")\n",
        "        \n",
        "def show_video_of_model(agent, env_name):\n",
        "    env = gym.make(env_name)\n",
        "    vid = video_recorder.VideoRecorder(env, path=\"./{}.mp4\".format(env_name))\n",
        "    agent.load_state_dict(torch.load('checkpoint.pth'))\n",
        "    state = env.reset()\n",
        "    done = False\n",
        "    while not done:\n",
        "        vid.capture_frame()\n",
        "        action = agent.act(state)\n",
        "        next_state, reward, done, _ = env.step(action)\n",
        "        state = next_state\n",
        "        if done:\n",
        "            break        \n",
        "    env.close()"
      ]
    },
    {
      "cell_type": "code",
      "execution_count": 10,
      "id": "c8a347e5",
      "metadata": {
        "colab": {
          "base_uri": "https://localhost:8080/"
        },
        "id": "c8a347e5",
        "outputId": "e18c3f69-e0ea-467f-c3b1-d475b035979b"
      },
      "outputs": [
        {
          "output_type": "stream",
          "name": "stderr",
          "text": [
            "/usr/local/lib/python3.7/dist-packages/gym/core.py:318: DeprecationWarning: \u001b[33mWARN: Initializing wrapper in old step API which returns one bool instead of two. It is recommended to set `new_step_api=True` to use new step API. This will be the default behaviour in future.\u001b[0m\n",
            "  \"Initializing wrapper in old step API which returns one bool instead of two. It is recommended to set `new_step_api=True` to use new step API. This will be the default behaviour in future.\"\n",
            "/usr/local/lib/python3.7/dist-packages/gym/wrappers/step_api_compatibility.py:40: DeprecationWarning: \u001b[33mWARN: Initializing environment in old step API which returns one bool instead of two. It is recommended to set `new_step_api=True` to use new step API. This will be the default behaviour in future.\u001b[0m\n",
            "  \"Initializing environment in old step API which returns one bool instead of two. It is recommended to set `new_step_api=True` to use new step API. This will be the default behaviour in future.\"\n",
            "/usr/local/lib/python3.7/dist-packages/gym/wrappers/monitoring/video_recorder.py:79: DeprecationWarning: \u001b[33mWARN: Recording ability for environment MountainCarContinuous-v0 initialized with `render_mode=None` is marked as deprecated and will be removed in the future.\u001b[0m\n",
            "  f\"Recording ability for environment {env.spec.id} initialized with `render_mode=None` is marked \"\n",
            "/usr/local/lib/python3.7/dist-packages/gym/wrappers/monitoring/video_recorder.py:102: DeprecationWarning: \u001b[33mWARN: <class 'gym.wrappers.monitoring.video_recorder.VideoRecorder'> is marked as deprecated and will be removed in the future.\u001b[0m\n",
            "  f\"{self.__class__} is marked as deprecated and will be removed in the future.\"\n",
            "/usr/local/lib/python3.7/dist-packages/gym/core.py:44: DeprecationWarning: \u001b[33mWARN: The argument mode in render method is deprecated; use render_mode during environment initialization instead.\n",
            "See here for more information: https://www.gymlibrary.ml/content/api/\u001b[0m\n",
            "  \"The argument mode in render method is deprecated; \"\n",
            "/usr/local/lib/python3.7/dist-packages/gym/core.py:44: DeprecationWarning: \u001b[33mWARN: The argument mode in render method is deprecated; use render_mode during environment initialization instead.\n",
            "See here for more information: https://www.gymlibrary.ml/content/api/\u001b[0m\n",
            "  \"The argument mode in render method is deprecated; \"\n"
          ]
        }
      ],
      "source": [
        "agent = Agent(env).to(device)\n",
        "show_video_of_model(agent, 'MountainCarContinuous-v0')"
      ]
    },
    {
      "cell_type": "code",
      "execution_count": 11,
      "id": "7fd10379",
      "metadata": {
        "colab": {
          "base_uri": "https://localhost:8080/",
          "height": 288
        },
        "id": "7fd10379",
        "outputId": "95c657a4-da9b-46fd-a856-4e0a6c845262"
      },
      "outputs": [
        {
          "output_type": "execute_result",
          "data": {
            "text/plain": [
              "<IPython.core.display.HTML object>"
            ],
            "text/html": [
              "\n",
              "<video width=400 controls>\n",
              "      <source src=\"data:video/mp4;base64,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\" type=\"video/mp4\">\n",
              "</video>\n"
            ]
          },
          "metadata": {},
          "execution_count": 11
        }
      ],
      "source": [
        "from IPython.display import HTML\n",
        "from base64 import b64encode\n",
        "mp4 = open('./MountainCarContinuous-v0.mp4','rb').read()\n",
        "data_url = \"data:video/mp4;base64,\" + b64encode(mp4).decode()\n",
        "HTML(\"\"\"\n",
        "<video width=400 controls>\n",
        "      <source src=\"%s\" type=\"video/mp4\">\n",
        "</video>\n",
        "\"\"\" % data_url)"
      ]
    }
  ],
  "metadata": {
    "kernelspec": {
      "display_name": "Python 3",
      "language": "python",
      "name": "python3"
    },
    "language_info": {
      "codemirror_mode": {
        "name": "ipython",
        "version": 3
      },
      "file_extension": ".py",
      "mimetype": "text/x-python",
      "name": "python",
      "nbconvert_exporter": "python",
      "pygments_lexer": "ipython3",
      "version": "3.7.10"
    },
    "colab": {
      "provenance": []
    }
  },
  "nbformat": 4,
  "nbformat_minor": 5
}