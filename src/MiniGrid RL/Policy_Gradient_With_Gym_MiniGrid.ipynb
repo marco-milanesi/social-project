{
  "cells": [
    {
      "cell_type": "markdown",
      "metadata": {
        "id": "view-in-github",
        "colab_type": "text"
      },
      "source": [
        "<a href=\"https://colab.research.google.com/github/marco-milanesi/social-project/blob/main/src/MiniGrid%20RL/Policy_Gradient_With_Gym_MiniGrid.ipynb\" target=\"_parent\"><img src=\"https://colab.research.google.com/assets/colab-badge.svg\" alt=\"Open In Colab\"/></a>"
      ]
    },
    {
      "cell_type": "markdown",
      "source": [
        "# Policy Gradient With Gym MiniGrid"
      ],
      "metadata": {
        "id": "kIek4sQgUX5e"
      }
    },
    {
      "cell_type": "markdown",
      "source": [
        "## Setup the environment"
      ],
      "metadata": {
        "id": "BKeXlS1TUzTn"
      }
    },
    {
      "cell_type": "code",
      "source": [
        "pip install gym==0.22"
      ],
      "metadata": {
        "id": "__c32y1rJbTR",
        "outputId": "c59ebdea-b8c1-4523-81a3-48ab9e9a8e6a",
        "colab": {
          "base_uri": "https://localhost:8080/"
        }
      },
      "execution_count": 1,
      "outputs": [
        {
          "output_type": "stream",
          "name": "stdout",
          "text": [
            "Looking in indexes: https://pypi.org/simple, https://us-python.pkg.dev/colab-wheels/public/simple/\n",
            "Collecting gym==0.22\n",
            "  Downloading gym-0.22.0.tar.gz (631 kB)\n",
            "\u001b[K     |████████████████████████████████| 631 kB 4.9 MB/s \n",
            "\u001b[?25h  Installing build dependencies ... \u001b[?25l\u001b[?25hdone\n",
            "  Getting requirements to build wheel ... \u001b[?25l\u001b[?25hdone\n",
            "    Preparing wheel metadata ... \u001b[?25l\u001b[?25hdone\n",
            "Requirement already satisfied: importlib-metadata>=4.10.0 in /usr/local/lib/python3.7/dist-packages (from gym==0.22) (4.13.0)\n",
            "Requirement already satisfied: cloudpickle>=1.2.0 in /usr/local/lib/python3.7/dist-packages (from gym==0.22) (1.5.0)\n",
            "Requirement already satisfied: gym-notices>=0.0.4 in /usr/local/lib/python3.7/dist-packages (from gym==0.22) (0.0.8)\n",
            "Requirement already satisfied: numpy>=1.18.0 in /usr/local/lib/python3.7/dist-packages (from gym==0.22) (1.21.6)\n",
            "Requirement already satisfied: zipp>=0.5 in /usr/local/lib/python3.7/dist-packages (from importlib-metadata>=4.10.0->gym==0.22) (3.10.0)\n",
            "Requirement already satisfied: typing-extensions>=3.6.4 in /usr/local/lib/python3.7/dist-packages (from importlib-metadata>=4.10.0->gym==0.22) (4.1.1)\n",
            "Building wheels for collected packages: gym\n",
            "  Building wheel for gym (PEP 517) ... \u001b[?25l\u001b[?25hdone\n",
            "  Created wheel for gym: filename=gym-0.22.0-py3-none-any.whl size=708394 sha256=d2ff89886d3b4cffaf2b1994445d073c079600db696f6c2e59091ea2d0cd74bd\n",
            "  Stored in directory: /root/.cache/pip/wheels/7d/5e/87/7d50e0179edda70feff5bba05c381041e1c1fd80c6b06a4cc3\n",
            "Successfully built gym\n",
            "Installing collected packages: gym\n",
            "  Attempting uninstall: gym\n",
            "    Found existing installation: gym 0.25.2\n",
            "    Uninstalling gym-0.25.2:\n",
            "      Successfully uninstalled gym-0.25.2\n",
            "Successfully installed gym-0.22.0\n"
          ]
        }
      ]
    },
    {
      "cell_type": "code",
      "source": [
        "pip install gym-minigrid==1.0.0"
      ],
      "metadata": {
        "id": "VY_zeN60JtBR",
        "outputId": "397418db-1bba-4c5f-f30a-08dc2332c72e",
        "colab": {
          "base_uri": "https://localhost:8080/"
        }
      },
      "execution_count": 2,
      "outputs": [
        {
          "output_type": "stream",
          "name": "stdout",
          "text": [
            "Looking in indexes: https://pypi.org/simple, https://us-python.pkg.dev/colab-wheels/public/simple/\n",
            "Collecting gym-minigrid==1.0.0\n",
            "  Downloading gym_minigrid-1.0.0-py3-none-any.whl (43 kB)\n",
            "\u001b[K     |████████████████████████████████| 43 kB 774 kB/s \n",
            "\u001b[?25hRequirement already satisfied: numpy>=1.15.0 in /usr/local/lib/python3.7/dist-packages (from gym-minigrid==1.0.0) (1.21.6)\n",
            "Requirement already satisfied: gym>=0.9.6 in /usr/local/lib/python3.7/dist-packages (from gym-minigrid==1.0.0) (0.22.0)\n",
            "Requirement already satisfied: cloudpickle>=1.2.0 in /usr/local/lib/python3.7/dist-packages (from gym>=0.9.6->gym-minigrid==1.0.0) (1.5.0)\n",
            "Requirement already satisfied: gym-notices>=0.0.4 in /usr/local/lib/python3.7/dist-packages (from gym>=0.9.6->gym-minigrid==1.0.0) (0.0.8)\n",
            "Requirement already satisfied: importlib-metadata>=4.10.0 in /usr/local/lib/python3.7/dist-packages (from gym>=0.9.6->gym-minigrid==1.0.0) (4.13.0)\n",
            "Requirement already satisfied: typing-extensions>=3.6.4 in /usr/local/lib/python3.7/dist-packages (from importlib-metadata>=4.10.0->gym>=0.9.6->gym-minigrid==1.0.0) (4.1.1)\n",
            "Requirement already satisfied: zipp>=0.5 in /usr/local/lib/python3.7/dist-packages (from importlib-metadata>=4.10.0->gym>=0.9.6->gym-minigrid==1.0.0) (3.10.0)\n",
            "Installing collected packages: gym-minigrid\n",
            "Successfully installed gym-minigrid-1.0.0\n"
          ]
        }
      ]
    },
    {
      "cell_type": "markdown",
      "metadata": {
        "id": "GsXXsGaMJQU_"
      },
      "source": [
        "# Policy Gradient with gym-MiniGrid\n",
        "> In this session, it will show the pytorch-implemented Policy Gradient in Gym-MiniGrid Environment.  Through this, you will know how to implement Vanila Policy Gradient (also known as REINFORCE), and test it on open source RL environment.\n"
      ]
    },
    {
      "cell_type": "markdown",
      "metadata": {
        "id": "TrjP7ihNJQVC"
      },
      "source": [
        "## Basic Jupyter Setting"
      ]
    },
    {
      "cell_type": "code",
      "execution_count": 3,
      "metadata": {
        "id": "L35hV9U3JQVD"
      },
      "outputs": [],
      "source": [
        "import numpy as np\n",
        "import matplotlib.pyplot as plt\n",
        "from pprint import pprint\n",
        "\n",
        "%matplotlib inline\n",
        "plt.rcParams['figure.figsize'] = (10.0, 8.0) # set default size of plots\n",
        "plt.rcParams['image.interpolation'] = 'nearest'\n",
        "plt.rcParams['image.cmap'] = 'gray'\n",
        "\n",
        "# for auto-reloading external modules\n",
        "# see http://stackoverflow.com/questions/1907993/autoreload-of-modules-in-ipython\n",
        "%load_ext autoreload\n",
        "%autoreload 2"
      ]
    },
    {
      "cell_type": "markdown",
      "metadata": {
        "id": "prBMIaqjJQVF"
      },
      "source": [
        "## Quick look at some frame of Minigrid\n",
        "Gridworld is widely used in RL environment. [Gym-MiniGrid](https://github.com/maximecb/gym-minigrid) is custom GridWorld environment of OpenAI [gym](https://github.com/openai/gym) style. Before dive in this environment, let's look at some frames of MiniGrid."
      ]
    },
    {
      "cell_type": "code",
      "execution_count": 4,
      "metadata": {
        "id": "-0DQRfvIJQVF",
        "outputId": "b34c776d-964d-4746-e2a7-50a1bfa6d82c",
        "colab": {
          "base_uri": "https://localhost:8080/",
          "height": 347
        }
      },
      "outputs": [
        {
          "output_type": "stream",
          "name": "stderr",
          "text": [
            "\n"
          ]
        },
        {
          "output_type": "display_data",
          "data": {
            "text/plain": [
              "<Figure size 720x576 with 1 Axes>"
            ],
            "image/png": "[encoded data removed]"
          },
          "metadata": {
            "needs_background": "light"
          }
        }
      ],
      "source": [
        "import gym\n",
        "import gym_minigrid\n",
        "\n",
        "env = gym.make('MiniGrid-Empty-8x8-v0')\n",
        "env.reset()\n",
        "before_img = env.render('rgb_array')\n",
        "action = env.actions.forward\n",
        "obs, reward, done, info = env.step(action)\n",
        "after_img = env.render('rgb_array')\n",
        "\n",
        "plt.imshow(np.concatenate([before_img, after_img], 1));"
      ]
    },
    {
      "cell_type": "markdown",
      "metadata": {
        "id": "QChEGy6mJQVG"
      },
      "source": [
        "This is the example of `MiniGrid-Empty-5x5-v0` environment. There are some blank cells, and gray obstacle which the agent cannot pass it. And the green cell is the goal to reach. The ultimate goal of this environment (and most of RL problem) is to find the optimal policy with highest reward. In this case, well-trained agent should find the optimal path to reach the goal.\n",
        "\n",
        "Let's move to more larger environment `MiniGrid-Empty-8x8-v0`, and find the information what we can get."
      ]
    },
    {
      "cell_type": "code",
      "execution_count": 5,
      "metadata": {
        "id": "WC6NkKHwJQVG",
        "outputId": "f34a4059-b9b1-44d5-8857-b6f0888994b7",
        "colab": {
          "base_uri": "https://localhost:8080/",
          "height": 1000
        }
      },
      "outputs": [
        {
          "output_type": "stream",
          "name": "stdout",
          "text": [
            "Observation: {'image': array([[[2, 5, 0],\n",
            "        [1, 0, 0],\n",
            "        [1, 0, 0],\n",
            "        [1, 0, 0],\n",
            "        [1, 0, 0],\n",
            "        [1, 0, 0],\n",
            "        [1, 0, 0]],\n",
            "\n",
            "       [[2, 5, 0],\n",
            "        [1, 0, 0],\n",
            "        [1, 0, 0],\n",
            "        [1, 0, 0],\n",
            "        [1, 0, 0],\n",
            "        [1, 0, 0],\n",
            "        [1, 0, 0]],\n",
            "\n",
            "       [[2, 5, 0],\n",
            "        [1, 0, 0],\n",
            "        [1, 0, 0],\n",
            "        [1, 0, 0],\n",
            "        [1, 0, 0],\n",
            "        [1, 0, 0],\n",
            "        [1, 0, 0]],\n",
            "\n",
            "       [[2, 5, 0],\n",
            "        [1, 0, 0],\n",
            "        [1, 0, 0],\n",
            "        [1, 0, 0],\n",
            "        [1, 0, 0],\n",
            "        [1, 0, 0],\n",
            "        [1, 0, 0]],\n",
            "\n",
            "       [[2, 5, 0],\n",
            "        [2, 5, 0],\n",
            "        [2, 5, 0],\n",
            "        [2, 5, 0],\n",
            "        [2, 5, 0],\n",
            "        [2, 5, 0],\n",
            "        [2, 5, 0]],\n",
            "\n",
            "       [[2, 5, 0],\n",
            "        [2, 5, 0],\n",
            "        [2, 5, 0],\n",
            "        [2, 5, 0],\n",
            "        [2, 5, 0],\n",
            "        [2, 5, 0],\n",
            "        [2, 5, 0]],\n",
            "\n",
            "       [[2, 5, 0],\n",
            "        [2, 5, 0],\n",
            "        [2, 5, 0],\n",
            "        [2, 5, 0],\n",
            "        [2, 5, 0],\n",
            "        [2, 5, 0],\n",
            "        [2, 5, 0]]], dtype=uint8), 'direction': 1, 'mission': 'get to the green goal square'}\n",
            "Reward: 0\n",
            "Done: False\n",
            "Info: {}\n",
            "Image shape: (256, 256, 3)\n"
          ]
        },
        {
          "output_type": "display_data",
          "data": {
            "text/plain": [
              "<Figure size 720x576 with 1 Axes>"
            ],
            "image/png": "[encoded data removed]"
          },
          "metadata": {
            "needs_background": "light"
          }
        }
      ],
      "source": [
        "# Make a new environment MiniGrid-Empty-8x8-v0\n",
        "env = gym.make('MiniGrid-Empty-8x8-v0')\n",
        "\n",
        "# Reset the environment\n",
        "env.reset()\n",
        "\n",
        "# Select the action right (sample action)\n",
        "action = env.actions.right\n",
        "\n",
        "# Take a step in the environment and store it in appropriate variables\n",
        "obs, reward, done, info = env.step(action)\n",
        "\n",
        "# Render the current state of the environment\n",
        "img = env.render('rgb_array')\n",
        "\n",
        "print('Observation:', obs)\n",
        "print('Reward:', reward)\n",
        "print('Done:', done)\n",
        "print('Info:', info)\n",
        "print('Image shape:', img.shape)\n",
        "plt.imshow(img);"
      ]
    },
    {
      "cell_type": "markdown",
      "metadata": {
        "id": "vpPJavCwJQVG"
      },
      "source": [
        "As the agent take an action, environment (MiniGrid) will be changed with respect to action. \n",
        "If the agent want to find the optimal path, the agent should notice the difference between current state and next state while taking an action. To help this, the environment generates next state, reward, and terminal flags.\n",
        "\n",
        "Some helper function offers to render the sample action in Jupyter Notebook."
      ]
    },
    {
      "cell_type": "code",
      "execution_count": 6,
      "metadata": {
        "id": "s3G49XCQJQVH"
      },
      "outputs": [],
      "source": [
        "import base64\n",
        "import glob\n",
        "import io\n",
        "from IPython.display import HTML\n",
        "from IPython import display \n",
        "\n",
        "def show_video():\n",
        "    mp4list = glob.glob('video/*.mp4')\n",
        "    if len(mp4list) > 0:\n",
        "        mp4 = mp4list[0]\n",
        "        video = io.open(mp4, 'r+b').read()\n",
        "        encoded = base64.b64encode(video)\n",
        "        display.display(HTML(data='''<video alt=\"test\" autoplay \n",
        "                loop controls style=\"height: 400px;\">\n",
        "                <source src=\"data:video/mp4;base64,{0}\" type=\"video/mp4\" />\n",
        "             </video>'''.format(encoded.decode('ascii'))))\n",
        "    else:\n",
        "        print(\"Could not find video\")"
      ]
    },
    {
      "cell_type": "markdown",
      "metadata": {
        "id": "pVvQ-DzGJQVH"
      },
      "source": [
        "To help agent training easily, MiniGrid offers `FlatObsWrapper` for flattening observation (in other words, 1D array)"
      ]
    },
    {
      "cell_type": "code",
      "execution_count": 7,
      "metadata": {
        "id": "NjuSE-i0JQVH"
      },
      "outputs": [],
      "source": [
        "import gym\n",
        "from gym import spaces\n",
        "from gym_minigrid.minigrid import OBJECT_TO_IDX, COLOR_TO_IDX\n",
        "\n",
        "max_env_steps = 50\n",
        "\n",
        "class FlatObsWrapper(gym.core.ObservationWrapper):\n",
        "    \"\"\"Fully observable gridworld returning a flat grid encoding.\"\"\"\n",
        "\n",
        "    def __init__(self, env):\n",
        "        super().__init__(env)\n",
        "\n",
        "        # Since the outer walls are always present, we remove left, right, top, bottom walls\n",
        "        # from the observation space of the agent. There are 3 channels, but for simplicity\n",
        "        # in this assignment, we will deal with flattened version of state.\n",
        "        \n",
        "        self.observation_space = spaces.Box(\n",
        "            low=0,\n",
        "            high=255,\n",
        "            shape=((self.env.width-2) * (self.env.height-2) * 3,),  # number of cells\n",
        "            dtype='uint8'\n",
        "        )\n",
        "        self.unwrapped.max_steps = max_env_steps\n",
        "\n",
        "    def observation(self, obs):\n",
        "        # this method is called in the step() function to get the observation\n",
        "        # we provide code that gets the grid state and places the agent in it\n",
        "        env = self.unwrapped\n",
        "        full_grid = env.grid.encode()\n",
        "        full_grid[env.agent_pos[0]][env.agent_pos[1]] = np.array([\n",
        "            OBJECT_TO_IDX['agent'],\n",
        "            COLOR_TO_IDX['red'],\n",
        "            env.agent_dir\n",
        "        ])\n",
        "        full_grid = full_grid[1:-1, 1:-1]   # remove outer walls of the environment (for efficiency)\n",
        "        \n",
        "        flattened_grid = full_grid.ravel()\n",
        "        return flattened_grid\n",
        "    \n",
        "    def render(self, *args, **kwargs):\n",
        "        \"\"\"This removes the default visualization of the partially observable field of view.\"\"\"\n",
        "        kwargs['highlight'] = False\n",
        "        return self.unwrapped.render(*args, **kwargs)"
      ]
    },
    {
      "cell_type": "markdown",
      "metadata": {
        "id": "VxqMf0daJQVI"
      },
      "source": [
        "So It's time to run with sample action!"
      ]
    },
    {
      "cell_type": "code",
      "execution_count": 8,
      "metadata": {
        "id": "inyxGR6vJQVI",
        "outputId": "9e28fb59-cab3-4ef3-e72e-3fcb60910333",
        "colab": {
          "base_uri": "https://localhost:8080/",
          "height": 642
        }
      },
      "outputs": [
        {
          "output_type": "stream",
          "name": "stdout",
          "text": [
            "Observation: [10  0  1  1  0  0  1  0  0  1  0  0  1  0  0  1  0  0  1  0  0  1  0  0\n",
            "  1  0  0  1  0  0  1  0  0  1  0  0  1  0  0  1  0  0  1  0  0  1  0  0\n",
            "  1  0  0  1  0  0  1  0  0  1  0  0  1  0  0  1  0  0  1  0  0  1  0  0\n",
            "  1  0  0  1  0  0  1  0  0  1  0  0  1  0  0  1  0  0  1  0  0  1  0  0\n",
            "  1  0  0  1  0  0  1  0  0  8  1  0] , Observation Shape:  (108,)\n",
            "Reward: 0\n",
            "Done: False\n",
            "Info: {}\n",
            "Image shape: (256, 256, 3)\n"
          ]
        },
        {
          "output_type": "display_data",
          "data": {
            "text/plain": [
              "<Figure size 720x576 with 1 Axes>"
            ],
            "image/png": "[encoded data removed]"
          },
          "metadata": {
            "needs_background": "light"
          }
        }
      ],
      "source": [
        "# Convert MiniGrid Environment with Flat Observable \n",
        "env = FlatObsWrapper(gym.make('MiniGrid-Empty-8x8-v0'))\n",
        "\n",
        "# Reset the environment\n",
        "env.reset()\n",
        "\n",
        "# Select the action right\n",
        "action = env.actions.right\n",
        "\n",
        "# Take a step in the environment and store it in appropriate variables\n",
        "obs, reward, done, info = env.step(action)\n",
        "\n",
        "# Render the current state of the environment\n",
        "img = env.render('rgb_array')\n",
        "################# YOUR CODE ENDS HERE ###############################\n",
        "\n",
        "print('Observation:', obs, ', Observation Shape: ', obs.shape)\n",
        "print('Reward:', reward)\n",
        "print('Done:', done)\n",
        "print('Info:', info)\n",
        "print('Image shape:', img.shape)\n",
        "plt.imshow(img);"
      ]
    },
    {
      "cell_type": "markdown",
      "metadata": {
        "id": "dVFeIFUEJQVI"
      },
      "source": [
        "As you can see it in observation, the dimension of observation is changed from 2D to 1D. Using this observation, we will make some kind of neural network to help agent to notice the observation. Let's check the real-time video of random movement."
      ]
    },
    {
      "cell_type": "code",
      "execution_count": 9,
      "metadata": {
        "id": "TttQ5XbxJQVI"
      },
      "outputs": [],
      "source": [
        "from gym.wrappers import Monitor\n",
        "\n",
        "# Monitor is a gym wrapper, which helps easy rendering of videos of the wrapped environment.\n",
        "def wrap_env(env):\n",
        "    env = Monitor(env, './video', force=True)\n",
        "    return env\n",
        "\n",
        "def gen_wrapped_env(env_name):\n",
        "    return wrap_env(FlatObsWrapper(gym.make(env_name)))"
      ]
    },
    {
      "cell_type": "markdown",
      "metadata": {
        "id": "0EEHwtvIJQVI"
      },
      "source": [
        "Currently, OpenAI Gym offers several utils to help understanding the training progress. Monitor is one of that tool to log the history data. If we set the rendering option to `rgb_array`, the video data will be stored in specific path. (Maybe it requires some additional apps such as ffmpeg)"
      ]
    },
    {
      "cell_type": "markdown",
      "metadata": {
        "id": "Bn_wUDQpJQVJ"
      },
      "source": [
        "## Test with Random Policy"
      ]
    },
    {
      "cell_type": "code",
      "execution_count": 10,
      "metadata": {
        "id": "EnncairVJQVJ"
      },
      "outputs": [],
      "source": [
        "# Random agent - we only use it in this cell for demonstration\n",
        "class RandPolicy:\n",
        "    def __init__(self, action_space):\n",
        "        self.action_space = action_space\n",
        "        \n",
        "    def act(self, *unused_args):\n",
        "        return self.action_space.sample(), None"
      ]
    },
    {
      "cell_type": "markdown",
      "metadata": {
        "id": "_eOd2y1DJQVJ"
      },
      "source": [
        "At first, we want check the operation of environment-agent interaction. To do this, Random Policy that generates the \"random action\" is defined. This policy just generates random action from pre-defined action space. And then run it. \n",
        "> Note that `pytorch_policy` flag is set to `False` as a default. But to implement the policy gradient, the gradient calculation is required, and pytorch will be used."
      ]
    },
    {
      "cell_type": "code",
      "execution_count": 11,
      "metadata": {
        "id": "eWgM0xujJQVJ",
        "outputId": "4a829c1e-542e-43c3-ec96-cdc7ef3ad8f3",
        "colab": {
          "base_uri": "https://localhost:8080/",
          "height": 456
        }
      },
      "outputs": [
        {
          "output_type": "stream",
          "name": "stdout",
          "text": [
            "Total reward: 0\n",
            "Total length: 50\n"
          ]
        },
        {
          "output_type": "display_data",
          "data": {
            "text/plain": [
              "<IPython.core.display.HTML object>"
            ],
            "text/html": [
              "<video alt=\"test\" autoplay \n",
              "                loop controls style=\"height: 400px;\">\n",
              "                <source src=\"data:video/mp4;base64,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\" type=\"video/mp4\" />\n",
              "             </video>"
            ]
          },
          "metadata": {}
        }
      ],
      "source": [
        "# This function plots videos of rollouts (episodes) of a given policy and environment\n",
        "def log_policy_rollout(policy, env_name, pytorch_policy=False):\n",
        "    # Create environment with flat observation\n",
        "    env = gen_wrapped_env(env_name)\n",
        "\n",
        "    # Initialize environment\n",
        "    observation = env.reset()\n",
        "\n",
        "    done = False\n",
        "    episode_reward = 0\n",
        "    episode_length = 0\n",
        "\n",
        "    # Run until done == True\n",
        "    while not done:\n",
        "      # Take a step\n",
        "        if pytorch_policy: \n",
        "            observation = torch.tensor(observation, dtype=torch.float32)\n",
        "            action = policy.act(observation)[0].data.cpu().numpy()\n",
        "        else:\n",
        "            action = policy.act(observation)[0]\n",
        "        observation, reward, done, info = env.step(action)\n",
        "\n",
        "        episode_reward += reward\n",
        "        episode_length += 1\n",
        "\n",
        "    print('Total reward:', episode_reward)\n",
        "    print('Total length:', episode_length)\n",
        "\n",
        "    env.close()\n",
        "    \n",
        "    show_video()\n",
        "\n",
        "# Test that the logging function is working\n",
        "test_env_name = 'MiniGrid-Empty-8x8-v0'\n",
        "rand_policy = RandPolicy(FlatObsWrapper(gym.make(test_env_name)).action_space)\n",
        "log_policy_rollout(rand_policy, test_env_name)"
      ]
    },
    {
      "cell_type": "markdown",
      "metadata": {
        "id": "H1EOAiDKJQVJ"
      },
      "source": [
        "That's the agent work with Random Policy. We found out that Random Policy is not optimal policy since the agent (the red one) cannot reach the goal.(or maybe it'll reach the goal after infinite times go on...)  So to reach the goal, it requires more intelligent policy. In natural sense of mind, it needs,\n",
        "\n",
        "- Remember the previous trajectory\n",
        "- When it goes to unknown cell, based on the experience with memory, use it to find the way to goal"
      ]
    },
    {
      "cell_type": "markdown",
      "metadata": {
        "id": "7G815n3OJQVJ"
      },
      "source": [
        "## Implement Rollout Buffer\n",
        "Before implementing Policy Gradient, it requires to implement memory object to store the previous trajectory or information offered from environment. Sometimes, it is called \"Replay Buffer\" or \"Rollout Buffer\", but in this page, RolloutBuffer will be used for expression. To implement Rollout Buffer, we need to consider such that,\n",
        "\n",
        "- how many trajectories stored in buffer?\n",
        "- how to add trajectory into the buffer?\n",
        "- (In view of Reinforcement Learning) how to calculate the future reward based on previous reward\n",
        "- (+) how to sample the trajectory efficiently?\n",
        "\n",
        "So this is RolloutBuffer implementation!"
      ]
    },
    {
      "cell_type": "code",
      "execution_count": 12,
      "metadata": {
        "id": "4J6UZToLJQVJ"
      },
      "outputs": [],
      "source": [
        "from torch.utils.data.sampler import BatchSampler, SubsetRandomSampler\n",
        "\n",
        "class RolloutBuffer():\n",
        "    def __init__(self, rollout_size, obs_size):\n",
        "        self.rollout_size = rollout_size\n",
        "        self.obs_size = obs_size\n",
        "        self.reset()\n",
        "        \n",
        "    def insert(self, step, done, action, log_prob, reward, obs):    \n",
        "        self.done[step].copy_(done)\n",
        "        self.actions[step].copy_(action)\n",
        "        self.log_probs[step].copy_(log_prob)\n",
        "        self.rewards[step].copy_(reward)\n",
        "        self.obs[step].copy_(obs)\n",
        "        \n",
        "    def reset(self):\n",
        "        self.done = torch.zeros(self.rollout_size, 1)\n",
        "        self.returns = torch.zeros(self.rollout_size + 1, 1, requires_grad=False)\n",
        "        # Assuming Discrete Action Space\n",
        "        self.actions = torch.zeros(self.rollout_size, 1, dtype=torch.int64)  \n",
        "        self.log_probs = torch.zeros(self.rollout_size, 1)\n",
        "        self.rewards = torch.zeros(self.rollout_size, 1)\n",
        "        self.obs = torch.zeros(self.rollout_size, self.obs_size)\n",
        "        \n",
        "    def compute_returns(self, gamma):\n",
        "        # Compute Returns until the last finished episode\n",
        "        self.last_done = (self.done == 1).nonzero().max()  \n",
        "        self.returns[self.last_done + 1] = 0.\n",
        "\n",
        "        # Accumulate discounted returns\n",
        "        for step in reversed(range(self.last_done + 1)):\n",
        "            self.returns[step] = self.returns[step + 1] * \\\n",
        "                gamma * (1 - self.done[step]) + self.rewards[step]\n",
        "        \n",
        "    def batch_sampler(self, batch_size, get_old_log_probs=False):\n",
        "        sampler = BatchSampler(\n",
        "            SubsetRandomSampler(range(self.last_done)),\n",
        "            batch_size,\n",
        "            drop_last=True)\n",
        "        for indices in sampler:\n",
        "            if get_old_log_probs:\n",
        "                yield self.actions[indices], self.returns[indices], self.obs[indices], self.log_probs[indices]\n",
        "            else:\n",
        "                yield self.actions[indices], self.returns[indices], self.obs[indices]"
      ]
    },
    {
      "cell_type": "markdown",
      "metadata": {
        "id": "8kY3FP8sJQVK"
      },
      "source": [
        "There are couple of things to notice that,\n",
        "\n",
        "- All information stored in RolloutBuffer should get the type of `torch.Tensor`\n",
        "- In this case, returns will be used for minimizing the loss. So returns object should set the `requires_grad` to `True`\n",
        "- It is inefficient to use all information to train the policy. To handle it, it requires something special sampling strategy. In this code, `BatchSample` is used."
      ]
    },
    {
      "cell_type": "markdown",
      "metadata": {
        "id": "4PaFECWgJQVK"
      },
      "source": [
        "## Construct Policy Network\n",
        "\n",
        "Now that we can store rollouts we need a policy to collect them. In the following you will complete the provided base code for the policy class. The policy is instantiated as a small neural network with simple fully-connected layers, the `ActorNetwork`. The role of policy is sort of strategy that generates the action. (Actually, it is just the probability to generate the action).\n",
        " And Of course, the important work through `ActorNetwork` is to update policy per each iteration. With pytorch, we need to define,\n",
        " \n",
        "- What optimizer should we use?\n",
        "- How can we define the loss function?\n",
        "\n",
        "At first, Let's look gradient function used in policy gradient,\n",
        "\n",
        "$$ \\nabla J(\\theta) = \\mathbb{E}_{\\pi}\\big[ \\nabla_{\\theta} \\log \\pi_{\\theta}(a, s) \\; V_t(s) \\big] $$\n",
        "\n",
        "Here, $\\theta$ are the parameters of the policy network $\\pi_{\\theta}$ and $V_t(s)$ is the observed future discounted reward from state $s$ onwards which should be **maximized** (we need to focus on this keyword, since the purpose of neural network training is to **minimize** the loss, not **maximize**). So anyway we need the calculate the gradient of $\\log \\pi_{\\theta}(a, s)$ and calculate its mean.\n",
        "\n",
        "And Plus, there are some approaches to enhance the exploration. If we can consider the **entropy loss** to handle the overall loss, it takes diverse action. At that case gradient fuction will be,\n",
        "\n",
        "$$ \\nabla J(\\theta) = \\mathbb{E}_{\\pi}\\big[ \\nabla_{\\theta} \\log \\pi_{\\theta}(a, s) \\; V_t(s) \\big] + \\nabla_{\\theta}\\mathcal{H}\\big[\\pi_\\theta(a, s)\\big]$$\n",
        "\n",
        "And here is the implementation of Actor Network (and it's quite simple!)"
      ]
    },
    {
      "cell_type": "code",
      "execution_count": 13,
      "metadata": {
        "id": "z0AvBgxQJQVK"
      },
      "outputs": [],
      "source": [
        "import torch\n",
        "import torch.nn as nn\n",
        "\n",
        "class ActorNetwork(nn.Module):\n",
        "    def __init__(self, num_inputs, num_actions, hidden_dim):\n",
        "        super().__init__()\n",
        "        self.num_actions = num_actions\n",
        "        \n",
        "        self.fc = nn.Sequential(\n",
        "            nn.Linear(num_inputs, hidden_dim),\n",
        "            nn.Tanh(),\n",
        "            nn.Linear(hidden_dim, hidden_dim),\n",
        "            nn.Tanh(),\n",
        "            nn.Linear(hidden_dim, num_actions)\n",
        "        )\n",
        "        \n",
        "    def forward(self, state):\n",
        "        x = self.fc(state)\n",
        "        return x"
      ]
    },
    {
      "cell_type": "markdown",
      "metadata": {
        "id": "4tld4dvaJQVK"
      },
      "source": [
        "And Below is the implementation of Policy. We select the Adam Optimizer "
      ]
    },
    {
      "cell_type": "code",
      "source": [
        "import glob\n",
        "import io\n",
        "import base64\n",
        "import numpy as np\n",
        "import pandas as pd\n",
        "import seaborn as sns\n",
        "np.set_printoptions(precision=2, suppress=True)\n",
        "\n",
        "import matplotlib\n",
        "import matplotlib.pyplot as plt\n",
        "\n",
        "from IPython.display import HTML\n",
        "from IPython import display as ipythondisplay\n",
        "\n",
        "\n",
        "\"\"\"\n",
        "Utility functions to enable video recording of gym environment and displaying it\n",
        "To enable video, just do \"env = wrap_env(env)\"\"\n",
        "\"\"\"\n",
        "\n",
        "\n",
        "def show_video():\n",
        "    mp4list = glob.glob('video/*.mp4')\n",
        "    if len(mp4list) > 0:\n",
        "        mp4 = mp4list[0]\n",
        "        video = io.open(mp4, 'r+b').read()\n",
        "        encoded = base64.b64encode(video)\n",
        "        ipythondisplay.display(HTML(data='''<video alt=\"test\" autoplay \n",
        "                loop controls style=\"height: 400px;\">\n",
        "                <source src=\"data:video/mp4;base64,{0}\" type=\"video/mp4\" />\n",
        "             </video>'''.format(encoded.decode('ascii'))))\n",
        "    else:\n",
        "        print(\"Could not find video\")\n",
        "\n",
        "\n",
        "class AverageMeter(object):\n",
        "    \"\"\"Computes and stores the average and current value\"\"\"\n",
        "\n",
        "    def __init__(self):\n",
        "        self.reset()\n",
        "\n",
        "    def reset(self):\n",
        "        self.val = 0\n",
        "        self.avg = 0\n",
        "        self.sum = 0\n",
        "        self.count = 0\n",
        "\n",
        "    def update(self, val, n=1):\n",
        "        self.val = val\n",
        "        self.sum += val * n\n",
        "        self.count += n\n",
        "        self.avg = self.sum / self.count\n",
        "\n",
        "\n",
        "def count_model_params(model):\n",
        "    return sum(p.numel() for p in model.parameters())\n",
        "\n",
        "\n",
        "def plot_grid_std_learning_curves(d, num_it):\n",
        "    for i, key in enumerate(d):\n",
        "        ax = plt.subplot(2, 2, i+1)\n",
        "        rewards, success_rates = d[key]\n",
        "        plot_std_learning_curves(rewards, success_rates, num_it, no_show=True)\n",
        "        ax.set_title(key)\n",
        "    plt.show()\n",
        "\n",
        "\n",
        "def plot_std_learning_curves(rewards, success_rates, num_it, no_show=False):\n",
        "    r, sr = np.asarray(rewards), np.asarray(success_rates)\n",
        "    df = pd.DataFrame(r).melt()\n",
        "    sns.lineplot(x=\"variable\", y=\"value\", data=df, label='reward/eps')\n",
        "    df = pd.DataFrame(sr).melt()\n",
        "    sns.lineplot(x=\"variable\", y=\"value\", data=df, label='success rate')\n",
        "    plt.xlabel(\"Training iterations\")\n",
        "    plt.ylabel(\"\")\n",
        "    plt.xlim([0, num_it])\n",
        "    plt.ylim([0, 1])\n",
        "    plt.legend()\n",
        "    plt.grid('on')\n",
        "    if not no_show:\n",
        "        plt.show()\n",
        "\n",
        "\n",
        "def plot_learning_curve(rewards, success_rate, num_it, plot_std=False):\n",
        "    if plot_std:\n",
        "        # plots shaded regions if list of reward timeseries is given\n",
        "        plot_std_learning_curves(rewards, success_rate, num_it)\n",
        "    else:\n",
        "        plt.plot(rewards, label='reward/eps')\n",
        "        if success_rate:\n",
        "            plt.plot(success_rate, label='success rate')\n",
        "            plt.legend()\n",
        "        else:\n",
        "            plt.ylabel('return / eps')\n",
        "        plt.ylim([0, 1])\n",
        "        plt.xlim([0, num_it - 1])\n",
        "        plt.xlabel('train iter')\n",
        "        plt.grid('on')\n",
        "        plt.show()\n",
        "\n",
        "# Wrapper around dictionary that enables attribute access instead of the bracket syntax\n",
        "# i.e. you can replace d['item'] with d.item\n",
        "class ParamDict(dict):\n",
        "    __setattr__ = dict.__setitem__\n",
        "    def __getattr__(self, attr):\n",
        "        # Take care that getattr() raises AttributeError, not KeyError.\n",
        "        # Required e.g. for hasattr(), deepcopy and OrderedDict.\n",
        "        try:\n",
        "            return self.__getitem__(attr)\n",
        "        except KeyError:\n",
        "            raise AttributeError(\"Attribute %r not found\" % attr)\n",
        "    def __getstate__(self): return self\n",
        "    def __setstate__(self, d): self = d\n",
        "\n"
      ],
      "metadata": {
        "id": "Qdna_E5aOJLl"
      },
      "execution_count": 14,
      "outputs": []
    },
    {
      "cell_type": "code",
      "execution_count": 15,
      "metadata": {
        "id": "wDdUKqIWJQVK"
      },
      "outputs": [],
      "source": [
        "import torch.optim as optim\n",
        "import torch.nn.functional as F\n",
        "from torch.distributions.categorical import Categorical\n",
        "\n",
        "class Policy():\n",
        "    def __init__(self, num_inputs, num_actions, hidden_dim, learning_rate,\n",
        "                 batch_size, policy_epochs, entropy_coef=0.001):\n",
        "        self.actor = ActorNetwork(num_inputs, num_actions, hidden_dim)\n",
        "        self.optimizer = optim.Adam(self.actor.parameters(), lr=learning_rate)\n",
        "        self.batch_size = batch_size\n",
        "        self.policy_epochs = policy_epochs\n",
        "        self.entropy_coef = entropy_coef\n",
        "\n",
        "    def act(self, state):\n",
        "        logits = self.actor(state)\n",
        "        # To generate the probability of action, we assume its state has categorical distribution.\n",
        "        dist = Categorical(logits=logits)\n",
        "        action = dist.sample()\n",
        "        log_prob = dist.log_prob(action)\n",
        "        return action, log_prob\n",
        "    \n",
        "    def evaluate_actions(self, state, action):\n",
        "        logits = self.actor(state)\n",
        "        dist = Categorical(logits=logits)\n",
        "        log_prob = dist.log_prob(action.squeeze(-1)).view(-1, 1)\n",
        "        entropy = dist.entropy().view(-1, 1)\n",
        "        return log_prob, entropy\n",
        "    \n",
        "    def update(self, rollouts):\n",
        "        for epoch in range(self.policy_epochs):\n",
        "            data = rollouts.batch_sampler(self.batch_size)\n",
        "            \n",
        "            for sample in data:\n",
        "                actions_batch, returns_batch, obs_batch = sample\n",
        "    \n",
        "                log_probs_batch, entropy_batch = self.evaluate_actions(obs_batch, actions_batch)\n",
        "    \n",
        "                # Compute the mean loss for the policy update using \n",
        "                # action log-probabilities and policy returns\n",
        "                policy_loss = -(log_probs_batch * returns_batch).mean()\n",
        "                # Compute the mean entropy for the policy update \n",
        "                entropy_loss = -entropy_batch.mean()\n",
        "                \n",
        "                loss = policy_loss + self.entropy_coef * entropy_loss\n",
        "                \n",
        "                self.optimizer.zero_grad()\n",
        "                loss.backward(retain_graph=False)\n",
        "                self.optimizer.step()\n",
        "                \n",
        "    @property\n",
        "    def num_params(self):\n",
        "        return count_model_params(self.actor)"
      ]
    },
    {
      "cell_type": "code",
      "execution_count": 16,
      "metadata": {
        "id": "KSWxts3jJQVK"
      },
      "outputs": [],
      "source": [
        "from IPython.display import clear_output\n",
        "import time\n",
        "\n",
        "def train(env, rollouts, policy, params, seed=123):\n",
        "    # SETTING SEED: it is good practice to set seeds when running experiments to keep results comparable\n",
        "    np.random.seed(seed)\n",
        "    torch.manual_seed(seed)\n",
        "    env.seed(seed)\n",
        "\n",
        "    rollout_time, update_time = AverageMeter(), AverageMeter()  # Loggers\n",
        "    rewards, success_rate = [], []\n",
        "\n",
        "    print(\"Training model with {} parameters...\".format(policy.num_params))\n",
        "\n",
        "    # Training Loop\n",
        "    for j in range(params.num_updates):\n",
        "        ## Initialization\n",
        "        avg_eps_reward, avg_success_rate = AverageMeter(), AverageMeter()\n",
        "        done = False\n",
        "        prev_obs = env.reset()\n",
        "        prev_obs = torch.tensor(prev_obs, dtype=torch.float32)\n",
        "        eps_reward = 0.\n",
        "        start_time = time.time()\n",
        "        \n",
        "        ## Collect rollouts\n",
        "        for step in range(rollouts.rollout_size):\n",
        "            if done:\n",
        "                # Store episode statistics\n",
        "                avg_eps_reward.update(eps_reward)\n",
        "                if 'success' in info: \n",
        "                    avg_success_rate.update(int(info['success']))\n",
        "\n",
        "                # Reset Environment\n",
        "                obs = env.reset()\n",
        "                obs = torch.tensor(obs, dtype=torch.float32)\n",
        "                eps_reward = 0.\n",
        "            else:\n",
        "                obs = prev_obs\n",
        "\n",
        "            action, log_prob = policy.act(obs)\n",
        "            obs, reward, done, info = env.step(action)\n",
        "\n",
        "            rollouts.insert(step, torch.tensor(done, dtype=torch.float32), action, log_prob, \n",
        "                            torch.tensor(reward, dtype=torch.float32), \n",
        "                            prev_obs)\n",
        "            \n",
        "            prev_obs = torch.tensor(obs, dtype=torch.float32)\n",
        "            eps_reward += reward\n",
        "        \n",
        "        # Use the rollout buffer's function to compute the returns for all stored rollout steps. (requires just 1 line)\n",
        "        rollouts.compute_returns(params['discount'])\n",
        "        \n",
        "        rollout_done_time = time.time()\n",
        "\n",
        "        \n",
        "        # Call the policy's update function using the collected rollouts        \n",
        "        policy.update(rollouts)\n",
        "\n",
        "        update_done_time = time.time()\n",
        "        rollouts.reset()\n",
        "\n",
        "        ## log metrics\n",
        "        rewards.append(avg_eps_reward.avg)\n",
        "        if avg_success_rate.count > 0:\n",
        "            success_rate.append(avg_success_rate.avg)\n",
        "        rollout_time.update(rollout_done_time - start_time)\n",
        "        update_time.update(update_done_time - rollout_done_time)\n",
        "        print('it {}: avgR: {:.3f} -- rollout_time: {:.3f}sec -- update_time: {:.3f}sec'.format(j, \n",
        "                                                                                                avg_eps_reward.avg, \n",
        "                                                                                                rollout_time.avg,\n",
        "                                                                                                update_time.avg))\n",
        "        if j % params.plotting_iters == 0 and j != 0:\n",
        "            plot_learning_curve(rewards, success_rate, params.num_updates)\n",
        "            log_policy_rollout(policy, params.env_name, pytorch_policy=True)\n",
        "    clear_output()   # this removes all training outputs to keep the notebook clean, DON'T REMOVE THIS LINE!\n",
        "    return rewards, success_rate"
      ]
    },
    {
      "cell_type": "code",
      "execution_count": 17,
      "metadata": {
        "id": "KBAtZo1gJQVL"
      },
      "outputs": [],
      "source": [
        "import copy\n",
        "\n",
        "def instantiate(params_in, nonwrapped_env=None):\n",
        "    params = copy.deepcopy(params_in)\n",
        "\n",
        "    if nonwrapped_env is None:\n",
        "        nonwrapped_env = gym.make(params.env_name)\n",
        "\n",
        "    env = None\n",
        "    env = FlatObsWrapper(nonwrapped_env)    \n",
        "    obs_size = env.observation_space.shape[0]\n",
        "    num_actions = env.action_space.n\n",
        "\n",
        "    rollouts = RolloutBuffer(params.rollout_size, obs_size)\n",
        "    policy_class = params.policy_params.pop('policy_class')\n",
        "    \n",
        "    policy = policy_class(obs_size, num_actions, **params.policy_params)\n",
        "    return env, rollouts, policy"
      ]
    },
    {
      "cell_type": "code",
      "execution_count": 24,
      "metadata": {
        "id": "bAQRL0dJJQVL"
      },
      "outputs": [],
      "source": [
        "# hyperparameters\n",
        "policy_params = ParamDict(\n",
        "    policy_class = Policy,    # Policy class to use (replaced later)     \n",
        "    hidden_dim = 32,          # dimension of the hidden state in actor network\n",
        "    learning_rate = 1e-3,     # learning rate of policy update\n",
        "    batch_size = 1024,        # batch size for policy update\n",
        "    policy_epochs = 4,        # number of epochs per policy update\n",
        "    entropy_coef = 0.001,     # hyperparameter to vary the contribution of entropy loss\n",
        ")\n",
        "params = ParamDict(\n",
        "    policy_params = policy_params,\n",
        "    rollout_size = 2050,      # number of collected rollout steps per policy update\n",
        "    num_updates = 500,         # number of training policy iterations\n",
        "    discount = 0.99,          # discount factor\n",
        "    plotting_iters = 10,      # interval for logging graphs and policy rollouts\n",
        "    env_name = 'MiniGrid-Empty-8x8-v0',  # we are using a tiny environment here for testing\n",
        ")"
      ]
    },
    {
      "cell_type": "code",
      "execution_count": 25,
      "metadata": {
        "id": "t-swYmm4JQVL",
        "colab": {
          "base_uri": "https://localhost:8080/",
          "height": 1000
        },
        "outputId": "08374f86-be99-4916-c526-42b93f5093ff"
      },
      "outputs": [
        {
          "output_type": "stream",
          "name": "stdout",
          "text": [
            "Training completed!\n"
          ]
        }
      ],
      "source": [
        "env, rollouts, policy = instantiate(params)\n",
        "rewards, success_rate = train(env, rollouts, policy, params)\n",
        "print(\"Training completed!\")"
      ]
    },
    {
      "cell_type": "code",
      "execution_count": 26,
      "metadata": {
        "id": "sq1JjxgxJQVL",
        "colab": {
          "base_uri": "https://localhost:8080/",
          "height": 1000
        },
        "outputId": "7ee36d53-3ea6-44c1-c6ce-fb41db4f18b6"
      },
      "outputs": [
        {
          "output_type": "display_data",
          "data": {
            "text/plain": [
              "<Figure size 720x576 with 1 Axes>"
            ],
            "image/png": "[encoded data removed]"
          },
          "metadata": {
            "needs_background": "light"
          }
        },
        {
          "output_type": "stream",
          "name": "stdout",
          "text": [
            "Total reward: 0.802\n",
            "Total length: 11\n"
          ]
        },
        {
          "output_type": "display_data",
          "data": {
            "text/plain": [
              "<IPython.core.display.HTML object>"
            ],
            "text/html": [
              "<video alt=\"test\" autoplay \n",
              "                loop controls style=\"height: 400px;\">\n",
              "                <source src=\"data:video/mp4;base64,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\" type=\"video/mp4\" />\n",
              "             </video>"
            ]
          },
          "metadata": {}
        },
        {
          "output_type": "stream",
          "name": "stdout",
          "text": [
            "Total reward: 0.802\n",
            "Total length: 11\n"
          ]
        },
        {
          "output_type": "display_data",
          "data": {
            "text/plain": [
              "<IPython.core.display.HTML object>"
            ],
            "text/html": [
              "<video alt=\"test\" autoplay \n",
              "                loop controls style=\"height: 400px;\">\n",
              "                <source src=\"data:video/mp4;base64,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\" type=\"video/mp4\" />\n",
              "             </video>"
            ]
          },
          "metadata": {}
        },
        {
          "output_type": "stream",
          "name": "stdout",
          "text": [
            "Total reward: 0.802\n",
            "Total length: 11\n"
          ]
        },
        {
          "output_type": "display_data",
          "data": {
            "text/plain": [
              "<IPython.core.display.HTML object>"
            ],
            "text/html": [
              "<video alt=\"test\" autoplay \n",
              "                loop controls style=\"height: 400px;\">\n",
              "                <source src=\"data:video/mp4;base64,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\" type=\"video/mp4\" />\n",
              "             </video>"
            ]
          },
          "metadata": {}
        }
      ],
      "source": [
        "# final reward + policy plotting for easier evaluation\n",
        "plot_learning_curve(rewards, success_rate, params.num_updates)\n",
        "for _ in range(3):\n",
        "    log_policy_rollout(policy, params.env_name, pytorch_policy=True)"
      ]
    },
    {
      "cell_type": "markdown",
      "source": [
        "## Plot results\n",
        "The resulting plot consists of two subplots. The first one plots the total reward the agent accumulates over time, while the other plot shows a histogram of the agent’s total rewards for the last 50 episodes."
      ],
      "metadata": {
        "id": "rX1N0RnvtK1a"
      }
    },
    {
      "cell_type": "code",
      "execution_count": 50,
      "metadata": {
        "id": "2yIha0XGJQVL"
      },
      "outputs": [],
      "source": [
        "def plot_res(values, title=''):   \n",
        "    ''' Plot the reward curve and histogram of results over time.'''\n",
        "    # Update the window after each episode\n",
        "    clear_output(wait=True)\n",
        "    \n",
        "    # Define the figure\n",
        "    f, ax = plt.subplots(nrows=1, ncols=2, figsize=(12,5))\n",
        "    f.suptitle(title)\n",
        "    ax[0].plot(values, label='score per run')\n",
        "    ax[0].axhline(0.8, c='red',ls='--', label='goal')\n",
        "    ax[0].set_xlabel('Episodes')\n",
        "    ax[0].set_ylabel('Reward')\n",
        "    x = range(len(values))\n",
        "    ax[0].legend()\n",
        "    # Calculate the trend\n",
        "    try:\n",
        "        z = np.polyfit(x, values, 1)\n",
        "        p = np.poly1d(z)\n",
        "        # ax[0].plot(x,p(x),\"--\", label='trend')\n",
        "    except:\n",
        "        print('')\n",
        "    \n",
        "    # Plot the histogram of results\n",
        "    ax[1].hist(values[-50:])\n",
        "    ax[1].axvline(0.8, c='red', label='goal')\n",
        "    ax[1].set_xlabel('Scores per Last 50 Episodes')\n",
        "    ax[1].set_ylabel('Frequency')\n",
        "    ax[1].legend()\n",
        "    plt.show()"
      ]
    },
    {
      "cell_type": "code",
      "source": [
        "plot_res(rewards)"
      ],
      "metadata": {
        "id": "f_sKSqgP0i1l",
        "outputId": "66998a46-29b7-4c4e-9ba7-d9aa15939e59",
        "colab": {
          "base_uri": "https://localhost:8080/",
          "height": 334
        }
      },
      "execution_count": 51,
      "outputs": [
        {
          "output_type": "display_data",
          "data": {
            "text/plain": [
              "<Figure size 864x360 with 2 Axes>"
            ],
            "image/png": "[encoded data removed]"
          },
          "metadata": {
            "needs_background": "light"
          }
        }
      ]
    },
    {
      "cell_type": "code",
      "source": [
        "params.num_updates"
      ],
      "metadata": {
        "id": "1Ta1-0Fv56-B",
        "outputId": "d8e2444d-4337-490a-f5e2-8aa054da2600",
        "colab": {
          "base_uri": "https://localhost:8080/"
        }
      },
      "execution_count": 53,
      "outputs": [
        {
          "output_type": "execute_result",
          "data": {
            "text/plain": [
              "500"
            ]
          },
          "metadata": {},
          "execution_count": 53
        }
      ]
    }
  ],
  "metadata": {
    "kernelspec": {
      "display_name": "Python 3",
      "language": "python",
      "name": "python3"
    },
    "language_info": {
      "codemirror_mode": {
        "name": "ipython",
        "version": 3
      },
      "file_extension": ".py",
      "mimetype": "text/x-python",
      "name": "python",
      "nbconvert_exporter": "python",
      "pygments_lexer": "ipython3",
      "version": "3.7.6"
    },
    "colab": {
      "provenance": [],
      "include_colab_link": true
    }
  },
  "nbformat": 4,
  "nbformat_minor": 0
}