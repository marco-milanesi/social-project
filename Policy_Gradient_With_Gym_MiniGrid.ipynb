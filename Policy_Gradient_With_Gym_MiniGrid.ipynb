{
  "cells": [
    {
      "cell_type": "markdown",
      "metadata": {
        "id": "view-in-github",
        "colab_type": "text"
      },
      "source": [
        "<a href=\"https://colab.research.google.com/github/marco-milanesi/social-project/blob/main/Policy_Gradient_With_Gym_MiniGrid.ipynb\" target=\"_parent\"><img src=\"https://colab.research.google.com/assets/colab-badge.svg\" alt=\"Open In Colab\"/></a>"
      ]
    },
    {
      "cell_type": "markdown",
      "source": [
        "# Policy Gradient With Gym MiniGrid"
      ],
      "metadata": {
        "id": "kIek4sQgUX5e"
      }
    },
    {
      "cell_type": "markdown",
      "source": [
        "## Setup the environment"
      ],
      "metadata": {
        "id": "BKeXlS1TUzTn"
      }
    },
    {
      "cell_type": "code",
      "source": [
        "pip install gym==0.22"
      ],
      "metadata": {
        "id": "__c32y1rJbTR",
        "outputId": "a5bb303e-f64e-4d1a-aaa7-bb84df095031",
        "colab": {
          "base_uri": "https://localhost:8080/"
        }
      },
      "execution_count": 1,
      "outputs": [
        {
          "output_type": "stream",
          "name": "stdout",
          "text": [
            "Looking in indexes: https://pypi.org/simple, https://us-python.pkg.dev/colab-wheels/public/simple/\n",
            "Collecting gym==0.22\n",
            "  Downloading gym-0.22.0.tar.gz (631 kB)\n",
            "\u001b[K     |████████████████████████████████| 631 kB 3.1 MB/s \n",
            "\u001b[?25h  Installing build dependencies ... \u001b[?25l\u001b[?25hdone\n",
            "  Getting requirements to build wheel ... \u001b[?25l\u001b[?25hdone\n",
            "    Preparing wheel metadata ... \u001b[?25l\u001b[?25hdone\n",
            "Requirement already satisfied: gym-notices>=0.0.4 in /usr/local/lib/python3.7/dist-packages (from gym==0.22) (0.0.8)\n",
            "Requirement already satisfied: cloudpickle>=1.2.0 in /usr/local/lib/python3.7/dist-packages (from gym==0.22) (1.5.0)\n",
            "Requirement already satisfied: importlib-metadata>=4.10.0 in /usr/local/lib/python3.7/dist-packages (from gym==0.22) (4.13.0)\n",
            "Requirement already satisfied: numpy>=1.18.0 in /usr/local/lib/python3.7/dist-packages (from gym==0.22) (1.21.6)\n",
            "Requirement already satisfied: zipp>=0.5 in /usr/local/lib/python3.7/dist-packages (from importlib-metadata>=4.10.0->gym==0.22) (3.10.0)\n",
            "Requirement already satisfied: typing-extensions>=3.6.4 in /usr/local/lib/python3.7/dist-packages (from importlib-metadata>=4.10.0->gym==0.22) (4.1.1)\n",
            "Building wheels for collected packages: gym\n",
            "  Building wheel for gym (PEP 517) ... \u001b[?25l\u001b[?25hdone\n",
            "  Created wheel for gym: filename=gym-0.22.0-py3-none-any.whl size=708397 sha256=875f5820c8da56c0554e3f8b7a14b15c0ad7b1d7e885423c36964567a8de7784\n",
            "  Stored in directory: /root/.cache/pip/wheels/7d/5e/87/7d50e0179edda70feff5bba05c381041e1c1fd80c6b06a4cc3\n",
            "Successfully built gym\n",
            "Installing collected packages: gym\n",
            "  Attempting uninstall: gym\n",
            "    Found existing installation: gym 0.25.2\n",
            "    Uninstalling gym-0.25.2:\n",
            "      Successfully uninstalled gym-0.25.2\n",
            "Successfully installed gym-0.22.0\n"
          ]
        }
      ]
    },
    {
      "cell_type": "code",
      "source": [
        "pip install gym-minigrid==1.0.0"
      ],
      "metadata": {
        "id": "VY_zeN60JtBR",
        "outputId": "c092423e-e579-4fbf-e896-5d960faa9c2a",
        "colab": {
          "base_uri": "https://localhost:8080/"
        }
      },
      "execution_count": 2,
      "outputs": [
        {
          "output_type": "stream",
          "name": "stdout",
          "text": [
            "Looking in indexes: https://pypi.org/simple, https://us-python.pkg.dev/colab-wheels/public/simple/\n",
            "Collecting gym-minigrid==1.0.0\n",
            "  Downloading gym_minigrid-1.0.0-py3-none-any.whl (43 kB)\n",
            "\u001b[K     |████████████████████████████████| 43 kB 1.4 MB/s \n",
            "\u001b[?25hRequirement already satisfied: numpy>=1.15.0 in /usr/local/lib/python3.7/dist-packages (from gym-minigrid==1.0.0) (1.21.6)\n",
            "Requirement already satisfied: gym>=0.9.6 in /usr/local/lib/python3.7/dist-packages (from gym-minigrid==1.0.0) (0.22.0)\n",
            "Requirement already satisfied: cloudpickle>=1.2.0 in /usr/local/lib/python3.7/dist-packages (from gym>=0.9.6->gym-minigrid==1.0.0) (1.5.0)\n",
            "Requirement already satisfied: importlib-metadata>=4.10.0 in /usr/local/lib/python3.7/dist-packages (from gym>=0.9.6->gym-minigrid==1.0.0) (4.13.0)\n",
            "Requirement already satisfied: gym-notices>=0.0.4 in /usr/local/lib/python3.7/dist-packages (from gym>=0.9.6->gym-minigrid==1.0.0) (0.0.8)\n",
            "Requirement already satisfied: typing-extensions>=3.6.4 in /usr/local/lib/python3.7/dist-packages (from importlib-metadata>=4.10.0->gym>=0.9.6->gym-minigrid==1.0.0) (4.1.1)\n",
            "Requirement already satisfied: zipp>=0.5 in /usr/local/lib/python3.7/dist-packages (from importlib-metadata>=4.10.0->gym>=0.9.6->gym-minigrid==1.0.0) (3.10.0)\n",
            "Installing collected packages: gym-minigrid\n",
            "Successfully installed gym-minigrid-1.0.0\n"
          ]
        }
      ]
    },
    {
      "cell_type": "markdown",
      "metadata": {
        "id": "GsXXsGaMJQU_"
      },
      "source": [
        "# Policy Gradient with gym-MiniGrid\n",
        "> In this session, it will show the pytorch-implemented Policy Gradient in Gym-MiniGrid Environment.  Through this, you will know how to implement Vanila Policy Gradient (also known as REINFORCE), and test it on open source RL environment.\n"
      ]
    },
    {
      "cell_type": "markdown",
      "metadata": {
        "id": "TrjP7ihNJQVC"
      },
      "source": [
        "## Basic Jupyter Setting"
      ]
    },
    {
      "cell_type": "code",
      "execution_count": 3,
      "metadata": {
        "id": "L35hV9U3JQVD"
      },
      "outputs": [],
      "source": [
        "import numpy as np\n",
        "import matplotlib.pyplot as plt\n",
        "from pprint import pprint\n",
        "\n",
        "%matplotlib inline\n",
        "plt.rcParams['figure.figsize'] = (10.0, 8.0) # set default size of plots\n",
        "plt.rcParams['image.interpolation'] = 'nearest'\n",
        "plt.rcParams['image.cmap'] = 'gray'\n",
        "\n",
        "# for auto-reloading external modules\n",
        "# see http://stackoverflow.com/questions/1907993/autoreload-of-modules-in-ipython\n",
        "%load_ext autoreload\n",
        "%autoreload 2"
      ]
    },
    {
      "cell_type": "markdown",
      "metadata": {
        "id": "prBMIaqjJQVF"
      },
      "source": [
        "## Quick look at some frame of Minigrid\n",
        "Gridworld is widely used in RL environment. [Gym-MiniGrid](https://github.com/maximecb/gym-minigrid) is custom GridWorld environment of OpenAI [gym](https://github.com/openai/gym) style. Before dive in this environment, let's look at some frames of MiniGrid."
      ]
    },
    {
      "cell_type": "code",
      "execution_count": 4,
      "metadata": {
        "id": "-0DQRfvIJQVF",
        "outputId": "54f2dd04-989f-4f6d-89d6-6494f5b14c92",
        "colab": {
          "base_uri": "https://localhost:8080/",
          "height": 347
        }
      },
      "outputs": [
        {
          "output_type": "stream",
          "name": "stderr",
          "text": [
            "\n"
          ]
        },
        {
          "output_type": "display_data",
          "data": {
            "text/plain": [
              "<Figure size 720x576 with 1 Axes>"
            ],
            "image/png": "[encoded data removed]"
          },
          "metadata": {
            "needs_background": "light"
          }
        }
      ],
      "source": [
        "import gym\n",
        "import gym_minigrid\n",
        "\n",
        "env = gym.make('MiniGrid-Empty-5x5-v0')\n",
        "env.reset()\n",
        "before_img = env.render('rgb_array')\n",
        "action = env.actions.forward\n",
        "obs, reward, done, info = env.step(action)\n",
        "after_img = env.render('rgb_array')\n",
        "\n",
        "plt.imshow(np.concatenate([before_img, after_img], 1));"
      ]
    },
    {
      "cell_type": "markdown",
      "metadata": {
        "id": "QChEGy6mJQVG"
      },
      "source": [
        "This is the example of `MiniGrid-Empty-5x5-v0` environment. There are some blank cells, and gray obstacle which the agent cannot pass it. And the green cell is the goal to reach. The ultimate goal of this environment (and most of RL problem) is to find the optimal policy with highest reward. In this case, well-trained agent should find the optimal path to reach the goal.\n",
        "\n",
        "Let's move to more larger environment `MiniGrid-Empty-8x8-v0`, and find the information what we can get."
      ]
    },
    {
      "cell_type": "code",
      "execution_count": 5,
      "metadata": {
        "id": "WC6NkKHwJQVG",
        "outputId": "cc9a405a-dfc7-44ec-de9f-c0d6e69e5ebc",
        "colab": {
          "base_uri": "https://localhost:8080/",
          "height": 1000
        }
      },
      "outputs": [
        {
          "output_type": "stream",
          "name": "stdout",
          "text": [
            "Observation: {'image': array([[[2, 5, 0],\n",
            "        [1, 0, 0],\n",
            "        [1, 0, 0],\n",
            "        [1, 0, 0],\n",
            "        [1, 0, 0],\n",
            "        [1, 0, 0],\n",
            "        [1, 0, 0]],\n",
            "\n",
            "       [[2, 5, 0],\n",
            "        [1, 0, 0],\n",
            "        [1, 0, 0],\n",
            "        [1, 0, 0],\n",
            "        [1, 0, 0],\n",
            "        [1, 0, 0],\n",
            "        [1, 0, 0]],\n",
            "\n",
            "       [[2, 5, 0],\n",
            "        [1, 0, 0],\n",
            "        [1, 0, 0],\n",
            "        [1, 0, 0],\n",
            "        [1, 0, 0],\n",
            "        [1, 0, 0],\n",
            "        [1, 0, 0]],\n",
            "\n",
            "       [[2, 5, 0],\n",
            "        [1, 0, 0],\n",
            "        [1, 0, 0],\n",
            "        [1, 0, 0],\n",
            "        [1, 0, 0],\n",
            "        [1, 0, 0],\n",
            "        [1, 0, 0]],\n",
            "\n",
            "       [[2, 5, 0],\n",
            "        [2, 5, 0],\n",
            "        [2, 5, 0],\n",
            "        [2, 5, 0],\n",
            "        [2, 5, 0],\n",
            "        [2, 5, 0],\n",
            "        [2, 5, 0]],\n",
            "\n",
            "       [[2, 5, 0],\n",
            "        [2, 5, 0],\n",
            "        [2, 5, 0],\n",
            "        [2, 5, 0],\n",
            "        [2, 5, 0],\n",
            "        [2, 5, 0],\n",
            "        [2, 5, 0]],\n",
            "\n",
            "       [[2, 5, 0],\n",
            "        [2, 5, 0],\n",
            "        [2, 5, 0],\n",
            "        [2, 5, 0],\n",
            "        [2, 5, 0],\n",
            "        [2, 5, 0],\n",
            "        [2, 5, 0]]], dtype=uint8), 'direction': 1, 'mission': 'get to the green goal square'}\n",
            "Reward: 0\n",
            "Done: False\n",
            "Info: {}\n",
            "Image shape: (256, 256, 3)\n"
          ]
        },
        {
          "output_type": "display_data",
          "data": {
            "text/plain": [
              "<Figure size 720x576 with 1 Axes>"
            ],
            "image/png": "[encoded data removed]"
          },
          "metadata": {
            "needs_background": "light"
          }
        }
      ],
      "source": [
        "# Make a new environment MiniGrid-Empty-8x8-v0\n",
        "env = gym.make('MiniGrid-Empty-8x8-v0')\n",
        "\n",
        "# Reset the environment\n",
        "env.reset()\n",
        "\n",
        "# Select the action right (sample action)\n",
        "action = env.actions.right\n",
        "\n",
        "# Take a step in the environment and store it in appropriate variables\n",
        "obs, reward, done, info = env.step(action)\n",
        "\n",
        "# Render the current state of the environment\n",
        "img = env.render('rgb_array')\n",
        "\n",
        "print('Observation:', obs)\n",
        "print('Reward:', reward)\n",
        "print('Done:', done)\n",
        "print('Info:', info)\n",
        "print('Image shape:', img.shape)\n",
        "plt.imshow(img);"
      ]
    },
    {
      "cell_type": "markdown",
      "metadata": {
        "id": "vpPJavCwJQVG"
      },
      "source": [
        "As the agent take an action, environment (MiniGrid) will be changed with respect to action. \n",
        "If the agent want to find the optimal path, the agent should notice the difference between current state and next state while taking an action. To help this, the environment generates next state, reward, and terminal flags.\n",
        "\n",
        "Some helper function offers to render the sample action in Jupyter Notebook."
      ]
    },
    {
      "cell_type": "code",
      "execution_count": 6,
      "metadata": {
        "id": "s3G49XCQJQVH"
      },
      "outputs": [],
      "source": [
        "import base64\n",
        "import glob\n",
        "import io\n",
        "from IPython.display import HTML\n",
        "from IPython import display \n",
        "\n",
        "def show_video():\n",
        "    mp4list = glob.glob('video/*.mp4')\n",
        "    if len(mp4list) > 0:\n",
        "        mp4 = mp4list[0]\n",
        "        video = io.open(mp4, 'r+b').read()\n",
        "        encoded = base64.b64encode(video)\n",
        "        display.display(HTML(data='''<video alt=\"test\" autoplay \n",
        "                loop controls style=\"height: 400px;\">\n",
        "                <source src=\"data:video/mp4;base64,{0}\" type=\"video/mp4\" />\n",
        "             </video>'''.format(encoded.decode('ascii'))))\n",
        "    else:\n",
        "        print(\"Could not find video\")"
      ]
    },
    {
      "cell_type": "markdown",
      "metadata": {
        "id": "pVvQ-DzGJQVH"
      },
      "source": [
        "To help agent training easily, MiniGrid offers `FlatObsWrapper` for flattening observation (in other words, 1D array)"
      ]
    },
    {
      "cell_type": "code",
      "execution_count": 7,
      "metadata": {
        "id": "NjuSE-i0JQVH"
      },
      "outputs": [],
      "source": [
        "import gym\n",
        "from gym import spaces\n",
        "from gym_minigrid.minigrid import OBJECT_TO_IDX, COLOR_TO_IDX\n",
        "\n",
        "max_env_steps = 50\n",
        "\n",
        "class FlatObsWrapper(gym.core.ObservationWrapper):\n",
        "    \"\"\"Fully observable gridworld returning a flat grid encoding.\"\"\"\n",
        "\n",
        "    def __init__(self, env):\n",
        "        super().__init__(env)\n",
        "\n",
        "        # Since the outer walls are always present, we remove left, right, top, bottom walls\n",
        "        # from the observation space of the agent. There are 3 channels, but for simplicity\n",
        "        # in this assignment, we will deal with flattened version of state.\n",
        "        \n",
        "        self.observation_space = spaces.Box(\n",
        "            low=0,\n",
        "            high=255,\n",
        "            shape=((self.env.width-2) * (self.env.height-2) * 3,),  # number of cells\n",
        "            dtype='uint8'\n",
        "        )\n",
        "        self.unwrapped.max_steps = max_env_steps\n",
        "\n",
        "    def observation(self, obs):\n",
        "        # this method is called in the step() function to get the observation\n",
        "        # we provide code that gets the grid state and places the agent in it\n",
        "        env = self.unwrapped\n",
        "        full_grid = env.grid.encode()\n",
        "        full_grid[env.agent_pos[0]][env.agent_pos[1]] = np.array([\n",
        "            OBJECT_TO_IDX['agent'],\n",
        "            COLOR_TO_IDX['red'],\n",
        "            env.agent_dir\n",
        "        ])\n",
        "        full_grid = full_grid[1:-1, 1:-1]   # remove outer walls of the environment (for efficiency)\n",
        "        \n",
        "        flattened_grid = full_grid.ravel()\n",
        "        return flattened_grid\n",
        "    \n",
        "    def render(self, *args, **kwargs):\n",
        "        \"\"\"This removes the default visualization of the partially observable field of view.\"\"\"\n",
        "        kwargs['highlight'] = False\n",
        "        return self.unwrapped.render(*args, **kwargs)"
      ]
    },
    {
      "cell_type": "markdown",
      "metadata": {
        "id": "VxqMf0daJQVI"
      },
      "source": [
        "So It's time to run with sample action!"
      ]
    },
    {
      "cell_type": "code",
      "execution_count": 8,
      "metadata": {
        "id": "inyxGR6vJQVI",
        "outputId": "b8a78678-abd1-47cd-8d0a-f88b4886ee08",
        "colab": {
          "base_uri": "https://localhost:8080/",
          "height": 642
        }
      },
      "outputs": [
        {
          "output_type": "stream",
          "name": "stdout",
          "text": [
            "Observation: [10  0  1  1  0  0  1  0  0  1  0  0  1  0  0  1  0  0  1  0  0  1  0  0\n",
            "  1  0  0  1  0  0  1  0  0  1  0  0  1  0  0  1  0  0  1  0  0  1  0  0\n",
            "  1  0  0  1  0  0  1  0  0  1  0  0  1  0  0  1  0  0  1  0  0  1  0  0\n",
            "  1  0  0  1  0  0  1  0  0  1  0  0  1  0  0  1  0  0  1  0  0  1  0  0\n",
            "  1  0  0  1  0  0  1  0  0  8  1  0] , Observation Shape:  (108,)\n",
            "Reward: 0\n",
            "Done: False\n",
            "Info: {}\n",
            "Image shape: (256, 256, 3)\n"
          ]
        },
        {
          "output_type": "display_data",
          "data": {
            "text/plain": [
              "<Figure size 720x576 with 1 Axes>"
            ],
            "image/png": "[encoded data removed]"
          },
          "metadata": {
            "needs_background": "light"
          }
        }
      ],
      "source": [
        "# Convert MiniGrid Environment with Flat Observable \n",
        "env = FlatObsWrapper(gym.make('MiniGrid-Empty-8x8-v0'))\n",
        "\n",
        "# Reset the environment\n",
        "env.reset()\n",
        "\n",
        "# Select the action right\n",
        "action = env.actions.right\n",
        "\n",
        "# Take a step in the environment and store it in appropriate variables\n",
        "obs, reward, done, info = env.step(action)\n",
        "\n",
        "# Render the current state of the environment\n",
        "img = env.render('rgb_array')\n",
        "################# YOUR CODE ENDS HERE ###############################\n",
        "\n",
        "print('Observation:', obs, ', Observation Shape: ', obs.shape)\n",
        "print('Reward:', reward)\n",
        "print('Done:', done)\n",
        "print('Info:', info)\n",
        "print('Image shape:', img.shape)\n",
        "plt.imshow(img);"
      ]
    },
    {
      "cell_type": "markdown",
      "metadata": {
        "id": "dVFeIFUEJQVI"
      },
      "source": [
        "As you can see it in observation, the dimension of observation is changed from 2D to 1D. Using this observation, we will make some kind of neural network to help agent to notice the observation. Let's check the real-time video of random movement."
      ]
    },
    {
      "cell_type": "code",
      "execution_count": 9,
      "metadata": {
        "id": "TttQ5XbxJQVI"
      },
      "outputs": [],
      "source": [
        "from gym.wrappers import Monitor\n",
        "\n",
        "# Monitor is a gym wrapper, which helps easy rendering of videos of the wrapped environment.\n",
        "def wrap_env(env):\n",
        "    env = Monitor(env, './video', force=True)\n",
        "    return env\n",
        "\n",
        "def gen_wrapped_env(env_name):\n",
        "    return wrap_env(FlatObsWrapper(gym.make(env_name)))"
      ]
    },
    {
      "cell_type": "markdown",
      "metadata": {
        "id": "0EEHwtvIJQVI"
      },
      "source": [
        "Currently, OpenAI Gym offers several utils to help understanding the training progress. Monitor is one of that tool to log the history data. If we set the rendering option to `rgb_array`, the video data will be stored in specific path. (Maybe it requires some additional apps such as ffmpeg)"
      ]
    },
    {
      "cell_type": "markdown",
      "metadata": {
        "id": "Bn_wUDQpJQVJ"
      },
      "source": [
        "## Test with Random Policy"
      ]
    },
    {
      "cell_type": "code",
      "execution_count": 10,
      "metadata": {
        "id": "EnncairVJQVJ"
      },
      "outputs": [],
      "source": [
        "# Random agent - we only use it in this cell for demonstration\n",
        "class RandPolicy:\n",
        "    def __init__(self, action_space):\n",
        "        self.action_space = action_space\n",
        "        \n",
        "    def act(self, *unused_args):\n",
        "        return self.action_space.sample(), None"
      ]
    },
    {
      "cell_type": "markdown",
      "metadata": {
        "id": "_eOd2y1DJQVJ"
      },
      "source": [
        "At first, we want check the operation of environment-agent interaction. To do this, Random Policy that generates the \"random action\" is defined. This policy just generates random action from pre-defined action space. And then run it. \n",
        "> Note that `pytorch_policy` flag is set to `False` as a default. But to implement the policy gradient, the gradient calculation is required, and pytorch will be used."
      ]
    },
    {
      "cell_type": "code",
      "execution_count": 11,
      "metadata": {
        "id": "eWgM0xujJQVJ",
        "outputId": "1cb6453e-e0b1-4fcd-c9e2-2c1e92d128db",
        "colab": {
          "base_uri": "https://localhost:8080/",
          "height": 456
        }
      },
      "outputs": [
        {
          "output_type": "stream",
          "name": "stdout",
          "text": [
            "Total reward: 0\n",
            "Total length: 50\n"
          ]
        },
        {
          "output_type": "display_data",
          "data": {
            "text/plain": [
              "<IPython.core.display.HTML object>"
            ],
            "text/html": [
              "<video alt=\"test\" autoplay \n",
              "                loop controls style=\"height: 400px;\">\n",
              "                <source src=\"data:video/mp4;base64,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\" type=\"video/mp4\" />\n",
              "             </video>"
            ]
          },
          "metadata": {}
        }
      ],
      "source": [
        "# This function plots videos of rollouts (episodes) of a given policy and environment\n",
        "def log_policy_rollout(policy, env_name, pytorch_policy=False):\n",
        "    # Create environment with flat observation\n",
        "    env = gen_wrapped_env(env_name)\n",
        "\n",
        "    # Initialize environment\n",
        "    observation = env.reset()\n",
        "\n",
        "    done = False\n",
        "    episode_reward = 0\n",
        "    episode_length = 0\n",
        "\n",
        "    # Run until done == True\n",
        "    while not done:\n",
        "      # Take a step\n",
        "        if pytorch_policy: \n",
        "            observation = torch.tensor(observation, dtype=torch.float32)\n",
        "            action = policy.act(observation)[0].data.cpu().numpy()\n",
        "        else:\n",
        "            action = policy.act(observation)[0]\n",
        "        observation, reward, done, info = env.step(action)\n",
        "\n",
        "        episode_reward += reward\n",
        "        episode_length += 1\n",
        "\n",
        "    print('Total reward:', episode_reward)\n",
        "    print('Total length:', episode_length)\n",
        "\n",
        "    env.close()\n",
        "    \n",
        "    show_video()\n",
        "\n",
        "# Test that the logging function is working\n",
        "test_env_name = 'MiniGrid-Empty-8x8-v0'\n",
        "rand_policy = RandPolicy(FlatObsWrapper(gym.make(test_env_name)).action_space)\n",
        "log_policy_rollout(rand_policy, test_env_name)"
      ]
    },
    {
      "cell_type": "markdown",
      "metadata": {
        "id": "H1EOAiDKJQVJ"
      },
      "source": [
        "That's the agent work with Random Policy. We found out that Random Policy is not optimal policy since the agent (the red one) cannot reach the goal.(or maybe it'll reach the goal after infinite times go on...)  So to reach the goal, it requires more intelligent policy. In natural sense of mind, it needs,\n",
        "\n",
        "- Remember the previous trajectory\n",
        "- When it goes to unknown cell, based on the experience with memory, use it to find the way to goal"
      ]
    },
    {
      "cell_type": "markdown",
      "metadata": {
        "id": "7G815n3OJQVJ"
      },
      "source": [
        "## Implement Rollout Buffer\n",
        "Before implementing Policy Gradient, it requires to implement memory object to store the previous trajectory or information offered from environment. Sometimes, it is called \"Replay Buffer\" or \"Rollout Buffer\", but in this page, RolloutBuffer will be used for expression. To implement Rollout Buffer, we need to consider such that,\n",
        "\n",
        "- how many trajectories stored in buffer?\n",
        "- how to add trajectory into the buffer?\n",
        "- (In view of Reinforcement Learning) how to calculate the future reward based on previous reward\n",
        "- (+) how to sample the trajectory efficiently?\n",
        "\n",
        "So this is RolloutBuffer implementation!"
      ]
    },
    {
      "cell_type": "code",
      "execution_count": 12,
      "metadata": {
        "id": "4J6UZToLJQVJ"
      },
      "outputs": [],
      "source": [
        "from torch.utils.data.sampler import BatchSampler, SubsetRandomSampler\n",
        "\n",
        "class RolloutBuffer():\n",
        "    def __init__(self, rollout_size, obs_size):\n",
        "        self.rollout_size = rollout_size\n",
        "        self.obs_size = obs_size\n",
        "        self.reset()\n",
        "        \n",
        "    def insert(self, step, done, action, log_prob, reward, obs):    \n",
        "        self.done[step].copy_(done)\n",
        "        self.actions[step].copy_(action)\n",
        "        self.log_probs[step].copy_(log_prob)\n",
        "        self.rewards[step].copy_(reward)\n",
        "        self.obs[step].copy_(obs)\n",
        "        \n",
        "    def reset(self):\n",
        "        self.done = torch.zeros(self.rollout_size, 1)\n",
        "        self.returns = torch.zeros(self.rollout_size + 1, 1, requires_grad=False)\n",
        "        # Assuming Discrete Action Space\n",
        "        self.actions = torch.zeros(self.rollout_size, 1, dtype=torch.int64)  \n",
        "        self.log_probs = torch.zeros(self.rollout_size, 1)\n",
        "        self.rewards = torch.zeros(self.rollout_size, 1)\n",
        "        self.obs = torch.zeros(self.rollout_size, self.obs_size)\n",
        "        \n",
        "    def compute_returns(self, gamma):\n",
        "        # Compute Returns until the last finished episode\n",
        "        self.last_done = (self.done == 1).nonzero().max()  \n",
        "        self.returns[self.last_done + 1] = 0.\n",
        "\n",
        "        # Accumulate discounted returns\n",
        "        for step in reversed(range(self.last_done + 1)):\n",
        "            self.returns[step] = self.returns[step + 1] * \\\n",
        "                gamma * (1 - self.done[step]) + self.rewards[step]\n",
        "        \n",
        "    def batch_sampler(self, batch_size, get_old_log_probs=False):\n",
        "        sampler = BatchSampler(\n",
        "            SubsetRandomSampler(range(self.last_done)),\n",
        "            batch_size,\n",
        "            drop_last=True)\n",
        "        for indices in sampler:\n",
        "            if get_old_log_probs:\n",
        "                yield self.actions[indices], self.returns[indices], self.obs[indices], self.log_probs[indices]\n",
        "            else:\n",
        "                yield self.actions[indices], self.returns[indices], self.obs[indices]"
      ]
    },
    {
      "cell_type": "markdown",
      "metadata": {
        "id": "8kY3FP8sJQVK"
      },
      "source": [
        "There are couple of things to notice that,\n",
        "\n",
        "- All information stored in RolloutBuffer should get the type of `torch.Tensor`\n",
        "- In this case, returns will be used for minimizing the loss. So returns object should set the `requires_grad` to `True`\n",
        "- It is inefficient to use all information to train the policy. To handle it, it requires something special sampling strategy. In this code, `BatchSample` is used."
      ]
    },
    {
      "cell_type": "markdown",
      "metadata": {
        "id": "4PaFECWgJQVK"
      },
      "source": [
        "## Construct Policy Network\n",
        "\n",
        "Now that we can store rollouts we need a policy to collect them. In the following you will complete the provided base code for the policy class. The policy is instantiated as a small neural network with simple fully-connected layers, the `ActorNetwork`. The role of policy is sort of strategy that generates the action. (Actually, it is just the probability to generate the action).\n",
        " And Of course, the important work through `ActorNetwork` is to update policy per each iteration. With pytorch, we need to define,\n",
        " \n",
        "- What optimizer should we use?\n",
        "- How can we define the loss function?\n",
        "\n",
        "At first, Let's look gradient function used in policy gradient,\n",
        "\n",
        "$$ \\nabla J(\\theta) = \\mathbb{E}_{\\pi}\\big[ \\nabla_{\\theta} \\log \\pi_{\\theta}(a, s) \\; V_t(s) \\big] $$\n",
        "\n",
        "Here, $\\theta$ are the parameters of the policy network $\\pi_{\\theta}$ and $V_t(s)$ is the observed future discounted reward from state $s$ onwards which should be **maximized** (we need to focus on this keyword, since the purpose of neural network training is to **minimize** the loss, not **maximize**). So anyway we need the calculate the gradient of $\\log \\pi_{\\theta}(a, s)$ and calculate its mean.\n",
        "\n",
        "And Plus, there are some approaches to enhance the exploration. If we can consider the **entropy loss** to handle the overall loss, it takes diverse action. At that case gradient fuction will be,\n",
        "\n",
        "$$ \\nabla J(\\theta) = \\mathbb{E}_{\\pi}\\big[ \\nabla_{\\theta} \\log \\pi_{\\theta}(a, s) \\; V_t(s) \\big] + \\nabla_{\\theta}\\mathcal{H}\\big[\\pi_\\theta(a, s)\\big]$$\n",
        "\n",
        "And here is the implementation of Actor Network (and it's quite simple!)"
      ]
    },
    {
      "cell_type": "code",
      "execution_count": 13,
      "metadata": {
        "id": "z0AvBgxQJQVK"
      },
      "outputs": [],
      "source": [
        "import torch\n",
        "import torch.nn as nn\n",
        "\n",
        "class ActorNetwork(nn.Module):\n",
        "    def __init__(self, num_inputs, num_actions, hidden_dim):\n",
        "        super().__init__()\n",
        "        self.num_actions = num_actions\n",
        "        \n",
        "        self.fc = nn.Sequential(\n",
        "            nn.Linear(num_inputs, hidden_dim),\n",
        "            nn.Tanh(),\n",
        "            nn.Linear(hidden_dim, hidden_dim),\n",
        "            nn.Tanh(),\n",
        "            nn.Linear(hidden_dim, num_actions)\n",
        "        )\n",
        "        \n",
        "    def forward(self, state):\n",
        "        x = self.fc(state)\n",
        "        return x"
      ]
    },
    {
      "cell_type": "markdown",
      "metadata": {
        "id": "4tld4dvaJQVK"
      },
      "source": [
        "And Below is the implementation of Policy. We select the Adam Optimizer "
      ]
    },
    {
      "cell_type": "code",
      "source": [
        "import glob\n",
        "import io\n",
        "import base64\n",
        "import numpy as np\n",
        "import pandas as pd\n",
        "import seaborn as sns\n",
        "np.set_printoptions(precision=2, suppress=True)\n",
        "\n",
        "import matplotlib\n",
        "import matplotlib.pyplot as plt\n",
        "\n",
        "from IPython.display import HTML\n",
        "from IPython import display as ipythondisplay\n",
        "\n",
        "\n",
        "\"\"\"\n",
        "Utility functions to enable video recording of gym environment and displaying it\n",
        "To enable video, just do \"env = wrap_env(env)\"\"\n",
        "\"\"\"\n",
        "\n",
        "\n",
        "def show_video():\n",
        "    mp4list = glob.glob('video/*.mp4')\n",
        "    if len(mp4list) > 0:\n",
        "        mp4 = mp4list[0]\n",
        "        video = io.open(mp4, 'r+b').read()\n",
        "        encoded = base64.b64encode(video)\n",
        "        ipythondisplay.display(HTML(data='''<video alt=\"test\" autoplay \n",
        "                loop controls style=\"height: 400px;\">\n",
        "                <source src=\"data:video/mp4;base64,{0}\" type=\"video/mp4\" />\n",
        "             </video>'''.format(encoded.decode('ascii'))))\n",
        "    else:\n",
        "        print(\"Could not find video\")\n",
        "\n",
        "\n",
        "class AverageMeter(object):\n",
        "    \"\"\"Computes and stores the average and current value\"\"\"\n",
        "\n",
        "    def __init__(self):\n",
        "        self.reset()\n",
        "\n",
        "    def reset(self):\n",
        "        self.val = 0\n",
        "        self.avg = 0\n",
        "        self.sum = 0\n",
        "        self.count = 0\n",
        "\n",
        "    def update(self, val, n=1):\n",
        "        self.val = val\n",
        "        self.sum += val * n\n",
        "        self.count += n\n",
        "        self.avg = self.sum / self.count\n",
        "\n",
        "\n",
        "def count_model_params(model):\n",
        "    return sum(p.numel() for p in model.parameters())\n",
        "\n",
        "\n",
        "def plot_grid_std_learning_curves(d, num_it):\n",
        "    for i, key in enumerate(d):\n",
        "        ax = plt.subplot(2, 2, i+1)\n",
        "        rewards, success_rates = d[key]\n",
        "        plot_std_learning_curves(rewards, success_rates, num_it, no_show=True)\n",
        "        ax.set_title(key)\n",
        "    plt.show()\n",
        "\n",
        "\n",
        "def plot_std_learning_curves(rewards, success_rates, num_it, no_show=False):\n",
        "    r, sr = np.asarray(rewards), np.asarray(success_rates)\n",
        "    df = pd.DataFrame(r).melt()\n",
        "    sns.lineplot(x=\"variable\", y=\"value\", data=df, label='reward/eps')\n",
        "    df = pd.DataFrame(sr).melt()\n",
        "    sns.lineplot(x=\"variable\", y=\"value\", data=df, label='success rate')\n",
        "    plt.xlabel(\"Training iterations\")\n",
        "    plt.ylabel(\"\")\n",
        "    plt.xlim([0, num_it])\n",
        "    plt.ylim([0, 1])\n",
        "    plt.legend()\n",
        "    plt.grid('on')\n",
        "    if not no_show:\n",
        "        plt.show()\n",
        "\n",
        "\n",
        "def plot_learning_curve(rewards, success_rate, num_it, plot_std=False):\n",
        "    if plot_std:\n",
        "        # plots shaded regions if list of reward timeseries is given\n",
        "        plot_std_learning_curves(rewards, success_rate, num_it)\n",
        "    else:\n",
        "        plt.plot(rewards, label='reward/eps')\n",
        "        if success_rate:\n",
        "            plt.plot(success_rate, label='success rate')\n",
        "            plt.legend()\n",
        "        else:\n",
        "            plt.ylabel('return / eps')\n",
        "        plt.ylim([0, 1])\n",
        "        plt.xlim([0, num_it - 1])\n",
        "        plt.xlabel('train iter')\n",
        "        plt.grid('on')\n",
        "        plt.show()\n",
        "\n",
        "# Wrapper around dictionary that enables attribute access instead of the bracket syntax\n",
        "# i.e. you can replace d['item'] with d.item\n",
        "class ParamDict(dict):\n",
        "    __setattr__ = dict.__setitem__\n",
        "    def __getattr__(self, attr):\n",
        "        # Take care that getattr() raises AttributeError, not KeyError.\n",
        "        # Required e.g. for hasattr(), deepcopy and OrderedDict.\n",
        "        try:\n",
        "            return self.__getitem__(attr)\n",
        "        except KeyError:\n",
        "            raise AttributeError(\"Attribute %r not found\" % attr)\n",
        "    def __getstate__(self): return self\n",
        "    def __setstate__(self, d): self = d\n",
        "\n"
      ],
      "metadata": {
        "id": "Qdna_E5aOJLl"
      },
      "execution_count": 17,
      "outputs": []
    },
    {
      "cell_type": "code",
      "execution_count": 18,
      "metadata": {
        "id": "wDdUKqIWJQVK"
      },
      "outputs": [],
      "source": [
        "import torch.optim as optim\n",
        "import torch.nn.functional as F\n",
        "from torch.distributions.categorical import Categorical\n",
        "\n",
        "class Policy():\n",
        "    def __init__(self, num_inputs, num_actions, hidden_dim, learning_rate,\n",
        "                 batch_size, policy_epochs, entropy_coef=0.001):\n",
        "        self.actor = ActorNetwork(num_inputs, num_actions, hidden_dim)\n",
        "        self.optimizer = optim.Adam(self.actor.parameters(), lr=learning_rate)\n",
        "        self.batch_size = batch_size\n",
        "        self.policy_epochs = policy_epochs\n",
        "        self.entropy_coef = entropy_coef\n",
        "\n",
        "    def act(self, state):\n",
        "        logits = self.actor(state)\n",
        "        # To generate the probability of action, we assume its state has categorical distribution.\n",
        "        dist = Categorical(logits=logits)\n",
        "        action = dist.sample()\n",
        "        log_prob = dist.log_prob(action)\n",
        "        return action, log_prob\n",
        "    \n",
        "    def evaluate_actions(self, state, action):\n",
        "        logits = self.actor(state)\n",
        "        dist = Categorical(logits=logits)\n",
        "        log_prob = dist.log_prob(action.squeeze(-1)).view(-1, 1)\n",
        "        entropy = dist.entropy().view(-1, 1)\n",
        "        return log_prob, entropy\n",
        "    \n",
        "    def update(self, rollouts):\n",
        "        for epoch in range(self.policy_epochs):\n",
        "            data = rollouts.batch_sampler(self.batch_size)\n",
        "            \n",
        "            for sample in data:\n",
        "                actions_batch, returns_batch, obs_batch = sample\n",
        "    \n",
        "                log_probs_batch, entropy_batch = self.evaluate_actions(obs_batch, actions_batch)\n",
        "    \n",
        "                # Compute the mean loss for the policy update using \n",
        "                # action log-probabilities and policy returns\n",
        "                policy_loss = -(log_probs_batch * returns_batch).mean()\n",
        "                # Compute the mean entropy for the policy update \n",
        "                entropy_loss = -entropy_batch.mean()\n",
        "                \n",
        "                loss = policy_loss + self.entropy_coef * entropy_loss\n",
        "                \n",
        "                self.optimizer.zero_grad()\n",
        "                loss.backward(retain_graph=False)\n",
        "                self.optimizer.step()\n",
        "                \n",
        "    @property\n",
        "    def num_params(self):\n",
        "        return count_model_params(self.actor)"
      ]
    },
    {
      "cell_type": "code",
      "execution_count": 19,
      "metadata": {
        "id": "KSWxts3jJQVK"
      },
      "outputs": [],
      "source": [
        "from IPython.display import clear_output\n",
        "import time\n",
        "\n",
        "def train(env, rollouts, policy, params, seed=123):\n",
        "    # SETTING SEED: it is good practice to set seeds when running experiments to keep results comparable\n",
        "    np.random.seed(seed)\n",
        "    torch.manual_seed(seed)\n",
        "    env.seed(seed)\n",
        "\n",
        "    rollout_time, update_time = AverageMeter(), AverageMeter()  # Loggers\n",
        "    rewards, success_rate = [], []\n",
        "\n",
        "    print(\"Training model with {} parameters...\".format(policy.num_params))\n",
        "\n",
        "    # Training Loop\n",
        "    for j in range(params.num_updates):\n",
        "        ## Initialization\n",
        "        avg_eps_reward, avg_success_rate = AverageMeter(), AverageMeter()\n",
        "        done = False\n",
        "        prev_obs = env.reset()\n",
        "        prev_obs = torch.tensor(prev_obs, dtype=torch.float32)\n",
        "        eps_reward = 0.\n",
        "        start_time = time.time()\n",
        "        \n",
        "        ## Collect rollouts\n",
        "        for step in range(rollouts.rollout_size):\n",
        "            if done:\n",
        "                # Store episode statistics\n",
        "                avg_eps_reward.update(eps_reward)\n",
        "                if 'success' in info: \n",
        "                    avg_success_rate.update(int(info['success']))\n",
        "\n",
        "                # Reset Environment\n",
        "                obs = env.reset()\n",
        "                obs = torch.tensor(obs, dtype=torch.float32)\n",
        "                eps_reward = 0.\n",
        "            else:\n",
        "                obs = prev_obs\n",
        "\n",
        "            action, log_prob = policy.act(obs)\n",
        "            obs, reward, done, info = env.step(action)\n",
        "\n",
        "            rollouts.insert(step, torch.tensor(done, dtype=torch.float32), action, log_prob, \n",
        "                            torch.tensor(reward, dtype=torch.float32), \n",
        "                            prev_obs)\n",
        "            \n",
        "            prev_obs = torch.tensor(obs, dtype=torch.float32)\n",
        "            eps_reward += reward\n",
        "        \n",
        "        # Use the rollout buffer's function to compute the returns for all stored rollout steps. (requires just 1 line)\n",
        "        rollouts.compute_returns(params['discount'])\n",
        "        \n",
        "        rollout_done_time = time.time()\n",
        "\n",
        "        \n",
        "        # Call the policy's update function using the collected rollouts        \n",
        "        policy.update(rollouts)\n",
        "\n",
        "        update_done_time = time.time()\n",
        "        rollouts.reset()\n",
        "\n",
        "        ## log metrics\n",
        "        rewards.append(avg_eps_reward.avg)\n",
        "        if avg_success_rate.count > 0:\n",
        "            success_rate.append(avg_success_rate.avg)\n",
        "        rollout_time.update(rollout_done_time - start_time)\n",
        "        update_time.update(update_done_time - rollout_done_time)\n",
        "        print('it {}: avgR: {:.3f} -- rollout_time: {:.3f}sec -- update_time: {:.3f}sec'.format(j, \n",
        "                                                                                                avg_eps_reward.avg, \n",
        "                                                                                                rollout_time.avg,\n",
        "                                                                                                update_time.avg))\n",
        "        if j % params.plotting_iters == 0 and j != 0:\n",
        "            plot_learning_curve(rewards, success_rate, params.num_updates)\n",
        "            log_policy_rollout(policy, params.env_name, pytorch_policy=True)\n",
        "    clear_output()   # this removes all training outputs to keep the notebook clean, DON'T REMOVE THIS LINE!\n",
        "    return rewards, success_rate"
      ]
    },
    {
      "cell_type": "code",
      "execution_count": 20,
      "metadata": {
        "id": "KBAtZo1gJQVL"
      },
      "outputs": [],
      "source": [
        "import copy\n",
        "\n",
        "def instantiate(params_in, nonwrapped_env=None):\n",
        "    params = copy.deepcopy(params_in)\n",
        "\n",
        "    if nonwrapped_env is None:\n",
        "        nonwrapped_env = gym.make(params.env_name)\n",
        "\n",
        "    env = None\n",
        "    env = FlatObsWrapper(nonwrapped_env)    \n",
        "    obs_size = env.observation_space.shape[0]\n",
        "    num_actions = env.action_space.n\n",
        "\n",
        "    rollouts = RolloutBuffer(params.rollout_size, obs_size)\n",
        "    policy_class = params.policy_params.pop('policy_class')\n",
        "    \n",
        "    policy = policy_class(obs_size, num_actions, **params.policy_params)\n",
        "    return env, rollouts, policy"
      ]
    },
    {
      "cell_type": "code",
      "execution_count": 21,
      "metadata": {
        "id": "bAQRL0dJJQVL"
      },
      "outputs": [],
      "source": [
        "# hyperparameters\n",
        "policy_params = ParamDict(\n",
        "    policy_class = Policy,    # Policy class to use (replaced later)     \n",
        "    hidden_dim = 32,          # dimension of the hidden state in actor network\n",
        "    learning_rate = 1e-3,     # learning rate of policy update\n",
        "    batch_size = 1024,        # batch size for policy update\n",
        "    policy_epochs = 4,        # number of epochs per policy update\n",
        "    entropy_coef = 0.001,     # hyperparameter to vary the contribution of entropy loss\n",
        ")\n",
        "params = ParamDict(\n",
        "    policy_params = policy_params,\n",
        "    rollout_size = 2050,      # number of collected rollout steps per policy update\n",
        "    num_updates = 50,         # number of training policy iterations\n",
        "    discount = 0.99,          # discount factor\n",
        "    plotting_iters = 10,      # interval for logging graphs and policy rollouts\n",
        "    env_name = 'MiniGrid-Empty-5x5-v0',  # we are using a tiny environment here for testing\n",
        ")"
      ]
    },
    {
      "cell_type": "code",
      "execution_count": 24,
      "metadata": {
        "id": "t-swYmm4JQVL",
        "colab": {
          "base_uri": "https://localhost:8080/",
          "height": 1000
        },
        "outputId": "81cbc9b2-bfcb-4141-93f2-16503b3be797"
      },
      "outputs": [
        {
          "output_type": "stream",
          "name": "stdout",
          "text": [
            "Training completed!\n"
          ]
        }
      ],
      "source": [
        "env, rollouts, policy = instantiate(params)\n",
        "rewards, success_rate = train(env, rollouts, policy, params)\n",
        "print(\"Training completed!\")"
      ]
    },
    {
      "cell_type": "code",
      "execution_count": 23,
      "metadata": {
        "id": "sq1JjxgxJQVL",
        "colab": {
          "base_uri": "https://localhost:8080/",
          "height": 1000
        },
        "outputId": "71f31ddb-e7b8-495b-e1d3-756384aa6c02"
      },
      "outputs": [
        {
          "output_type": "display_data",
          "data": {
            "text/plain": [
              "<Figure size 720x576 with 1 Axes>"
            ],
            "image/png": "[encoded data removed]"
          },
          "metadata": {
            "needs_background": "light"
          }
        },
        {
          "output_type": "stream",
          "name": "stdout",
          "text": [
            "Total reward: 0.802\n",
            "Total length: 11\n"
          ]
        },
        {
          "output_type": "display_data",
          "data": {
            "text/plain": [
              "<IPython.core.display.HTML object>"
            ],
            "text/html": [
              "<video alt=\"test\" autoplay \n",
              "                loop controls style=\"height: 400px;\">\n",
              "                <source src=\"data:video/mp4;base64,AAAAIGZ0eXBpc29tAAACAGlzb21pc28yYXZjMW1wNDEAAAAIZnJlZQAAC41tZGF0AAACrgYF//+q3EXpvebZSLeWLNgg2SPu73gyNjQgLSBjb3JlIDE1MiByMjg1NCBlOWE1OTAzIC0gSC4yNjQvTVBFRy00IEFWQyBjb2RlYyAtIENvcHlsZWZ0IDIwMDMtMjAxNyAtIGh0dHA6Ly93d3cudmlkZW9sYW4ub3JnL3gyNjQuaHRtbCAtIG9wdGlvbnM6IGNhYmFjPTEgcmVmPTMgZGVibG9jaz0xOjA6MCBhbmFseXNlPTB4MzoweDExMyBtZT1oZXggc3VibWU9NyBwc3k9MSBwc3lfcmQ9MS4wMDowLjAwIG1peGVkX3JlZj0xIG1lX3JhbmdlPTE2IGNocm9tYV9tZT0xIHRyZWxsaXM9MSA4eDhkY3Q9MSBjcW09MCBkZWFkem9uZT0yMSwxMSBmYXN0X3Bza2lwPTEgY2hyb21hX3FwX29mZnNldD0tMiB0aHJlYWRzPTMgbG9va2FoZWFkX3RocmVhZHM9MSBzbGljZWRfdGhyZWFkcz0wIG5yPTAgZGVjaW1hdGU9MSBpbnRlcmxhY2VkPTAgYmx1cmF5X2NvbXBhdD0wIGNvbnN0cmFpbmVkX2ludHJhPTAgYmZyYW1lcz0zIGJfcHlyYW1pZD0yIGJfYWRhcHQ9MSBiX2JpYXM9MCBkaXJlY3Q9MSB3ZWlnaHRiPTEgb3Blbl9nb3A9MCB3ZWlnaHRwPTIga2V5aW50PTI1MCBrZXlpbnRfbWluPTEwIHNjZW5lY3V0PTQwIGludHJhX3JlZnJlc2g9MCByY19sb29rYWhlYWQ9NDAgcmM9Y3JmIG1idHJlZT0xIGNyZj0yMy4wIHFjb21wPTAuNjAgcXBtaW49MCBxcG1heD02OSBxcHN0ZXA9NCBpcF9yYXRpbz0xLjQwIGFxPTE6MS4wMACAAAAB62WIhAAR//73iB8yyY1+rXchHnrS6tH1DuRng0eBKr1XWQ3rqw0ysLWkOYAAzZzy4I/GFahTZeCB4jqjIFvLl1Xtv6x7lRuV1s3AzoeiQRTiqBI/kwahn9e0WTCLCWlm6Ux4aSDHaFRR1a00rs5jAvr/rMrBN451HNTchhid/PXCrBJoxs/tV4swLFgv4VsXEeK4Mt7xEOhROZ5HeNptJpp2HY9ItXH3CsWIyiEfuRV4hOBrUeLRM6L9JnZIPmxZGQ+CKxzZw1LaSQm1uuQjW24KycCuFxB41HE2sPUxp8NzLSUNqmMtwnqrO2zyJm9nl1Jwnhy4TnMUMs5UWgnuIdJ0QYNMXZZ52i5/kk6c7MUn6/zhrO6cn1/B4bYpX/1L2Z9fWVRHy/y1AHiZCB0rhEFUC1lxx8yoKRP1OU7DVZ5lNot5s71SbfiuWVmW2zJc89JgeFlZPxO47SbPKlIUKJdFmiTWBtYJMEZixU7wdJvpxO5PZhbifcURkFhuTrV9owymA9xA1oCB5tDpYIbAIsc8RAvbKLaqyO6RECVlJFbgxxk7j2pBONVRqMNWpavQjGibfcOHpZg9eya/1ptOcl/TPHwB0tIxuqMWsqCYYx2L+iLgc+EPYRS35exQhOJlbASu9HSSCDP7c3/VAAAA9EGaJGxBD/6qVTruW4Yz1riAKb7JUo/XMqGlwRuhqNPydA0PTiA4DFL1gkBv9P8eFBRBOA6LKfXA9aSeIKlzfvYwMbOXk43B3hPou8MvavCnAf2QfkcjqIhNnb6dNQ8IDG2HJ4dMqqd5/aDGYFyAgcGA4R84tmIhYXwO3c+tyyrLHeNIf4Kwz6BeXBSc/Ehsdc2a4WDCHpdz/4X5WKzwdLZnn8vS45o0rEjzAjA2Jn8zKIKrSwyCCfz8an047rlUCZqB0jRW8tk3jsDu17JtyZZ0k3HmPnYMgm7xrtpNJWNAKA6Q8DgWg1AzNW6ZXtS1nLmm2PAAAAC+QZ5CeId/AqDS3T8cB5hu1gA2q6HaHsWP/8uT0wOmvH22Lag9P/QbG9Ymuu+asdvy901AAIBELZB4B29DBMsfodb+SGmJ/XXJGzpIz7P/89LuNVXWaLVHwfkDduD28q0pwGeZgtA7Wymz1z82+8e7Wzx+rVRkx4nsoWNqG3uXt2RabQO7WMU5n5MStJTjGubjLgmmnjtbAy2JoM5awFPJx07xFchKmCy6dJEAp0gC2GPUL/wsboXYrUBS3eDlwQAAAMEBnmF0Q38DetZoUNOURVOSyPACXKM5UpxwqGsRegFTaJk7Mft8HSIeNzoDPPTFYVeSLeEugCXr9wRbXCZIplnCMd/75T9R3RgC0JPjkKrkUq4cXROG80kbGHzdO9i7UkVWP12sFxMkvk+AKf9r2EfMHomP4zuHUbcTN3U+VggiixTVF+MtK1BscZxj9Bp6CjO7k2BjWqIb9IzBKQC3oY9eGA/kouXiz2alaGs01GqSvuXd1+PvCxvN+7Pw++silK2wAAAAEAGeY2pDfwJr5KT4w1TYV0EAAAASQZpoSahBaJlMCH///qmWAErBAAAArkGehkURLDv/Aa5mowmgNOAC6rWxSrhnieD/sp45rZgnZ3tbIcEN1HcofgVqGEudeMRD9Lo/wRzFwnpkVVsOQMyLbd/05ULVKX5W/rhrznL90tk5Fpsl/8nQ2qJzPz+CJ7ZCt23Feuxz31meVnintrCymVd24oAPOc/7LJ4DwvKtYGZTp/21IwigkW06bejjIyvk1KTY5vP2Z+bCDiePRWbcjAQ3RLHbrolGm+wS/wAAALMBnqV0Q38CUDo+r3+KcoALquCAKlC6BT2BLhsbCyrHkhncP2Nsol5UnZmH4vSQAb7K2w2nw/H16tWj0+dnfdcs/4k8LKQ8VuQJDuLZN75WMWt5ed1hJx6dEYbCR4elo9h/ksFMg14m5l5Q7wjMDs89lNwR8cn750AGPgTtsxOR9OHJxini8fXVjnEjVDe+4AD4TJXqvb+XCbqVdDSIwopSUJeWhpu+Y9uGT18EaWUm5O97JwAAAMcBnqdqQ38CV9ycQfioF4AA+KWa+U44VDUbcusmmPFQNiPwYAw4xK5FZCiO12emKwq8kW8JdAEvX7gi2uEyRTLOEY7/3yn6jujAFoSasTvFtBhpxsx6CBLpjd5pI2MPm6d7F2pIqsfrtYLiZJfJ5QBGyrrA0RnNWv/6tlJNRi7YdF1t+FZMo3QcnkfojBt/rTT+wbisZNmppRkG4S8Qsslp2tRDJcBm2PXhgQyUqdmnsNPWOdFbI9rAWLC0jhV33fPbgFf380KgAAABAEGaq0moQWyZTAhv//6nhF0hlM3fABdVpg6tdJJcJAFqge8oskZZ5/fMUQUxBLF7TqYU4QYnjf/z07nsc98yA7LqeUUz3MIFcudBce07d85y5DjyLhRH/iC2e1nSNKHeDB/E9nmASFV5Yz67F250DCCmuxehciLwrJqZJo9dCgJ1lMtXvvzTfXlp3hVlHXVoUNU47tv4IEc5eCBGUYAl7v0amg4lx0byvY8MxeMXcjYD+AMrDo8cly3TVZrEtxojvO/q61GHRL2yXjxNlFiok6jYAjw6vRnFODomlZTthvYXO5/1zUODJJL7EWgHS/EJP3kG5tFrS9bsyw5FtB6Y7YAAAADhQZ7JRRUsN/8CXgndyOmHg92umbcVf/fTADXpZr5VnmKnn4CJ+R4W/8Qq4NSFgxFrd3eCl62I+Py4WHhl7VTpSDiq35EEEIXy68SvASHEzvXcvcOmVPNE1g1GLj6FYLITpYKR4NweWMcXaAenH8QwGZunxDHPDBikL65s/IkNSujEJFfaqd3MqJyjlYq6TB1rF/uZKyC9Bd88XOrT5Wl8rvmsMcBlv5cNFgZBIvZBZkoQbNiZeRiXrZMQXp5klqalQhgM3PkYaBATbwc5nGG0WLXRUR4aoQMiq/NU52k3wLfBAAAAGgGe6mpDfwJs/EtQ5UPCayBzqfwLb7ELGQyDAAADmW1vb3YAAABsbXZoZAAAAAAAAAAAAAAAAAAAA+gAAASwAAEAAAEAAAAAAAAAAAAAAAABAAAAAAAAAAAAAAAAAAAAAQAAAAAAAAAAAAAAAAAAQAAAAAAAAAAAAAAAAAAAAAAAAAAAAAAAAAAAAAAAAAIAAALDdHJhawAAAFx0a2hkAAAAAwAAAAAAAAAAAAAAAQAAAAAAAASwAAAAAAAAAAAAAAAAAAAAAAABAAAAAAAAAAAAAAAAAAAAAQAAAAAAAAAAAAAAAAAAQAAAAACgAAAAoAAAAAAAJGVkdHMAAAAcZWxzdAAAAAAAAAABAAAEsAAACAAAAQAAAAACO21kaWEAAAAgbWRoZAAAAAAAAAAAAAAAAAAAKAAAADAAVcQAAAAAAC1oZGxyAAAAAAAAAAB2aWRlAAAAAAAAAAAAAAAAVmlkZW9IYW5kbGVyAAAAAeZtaW5mAAAAFHZtaGQAAAABAAAAAAAAAAAAAAAkZGluZgAAABxkcmVmAAAAAAAAAAEAAAAMdXJsIAAAAAEAAAGmc3RibAAAAJZzdHNkAAAAAAAAAAEAAACGYXZjMQAAAAAAAAABAAAAAAAAAAAAAAAAAAAAAACgAKAASAAAAEgAAAAAAAAAAQAAAAAAAAAAAAAAAAAAAAAAAAAAAAAAAAAAAAAAAAAAABj//wAAADBhdmNDAWQAC//hABdnZAALrNlChWhAAAADAEAAAAUDxQplgAEABmjr48siwAAAABhzdHRzAAAAAAAAAAEAAAAMAAAEAAAAABRzdHNzAAAAAAAAAAEAAAABAAAAaGN0dHMAAAAAAAAACwAAAAEAAAgAAAAAAQAAFAAAAAABAAAIAAAAAAEAAAAAAAAAAQAABAAAAAABAAAUAAAAAAEAAAgAAAAAAQAAAAAAAAABAAAEAAAAAAEAABAAAAAAAgAABAAAAAAcc3RzYwAAAAAAAAABAAAAAQAAAAwAAAABAAAARHN0c3oAAAAAAAAAAAAAAAwAAAShAAAA+AAAAMIAAADFAAAAFAAAABYAAACyAAAAtwAAAMsAAAEEAAAA5QAAAB4AAAAUc3RjbwAAAAAAAAABAAAAMAAAAGJ1ZHRhAAAAWm1ldGEAAAAAAAAAIWhkbHIAAAAAAAAAAG1kaXJhcHBsAAAAAAAAAAAAAAAALWlsc3QAAAAlqXRvbwAAAB1kYXRhAAAAAQAAAABMYXZmNTcuODMuMTAw\" type=\"video/mp4\" />\n",
              "             </video>"
            ]
          },
          "metadata": {}
        },
        {
          "output_type": "stream",
          "name": "stdout",
          "text": [
            "Total reward: 0.604\n",
            "Total length: 22\n"
          ]
        },
        {
          "output_type": "display_data",
          "data": {
            "text/plain": [
              "<IPython.core.display.HTML object>"
            ],
            "text/html": [
              "<video alt=\"test\" autoplay \n",
              "                loop controls style=\"height: 400px;\">\n",
              "                <source src=\"data:video/mp4;base64,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\" type=\"video/mp4\" />\n",
              "             </video>"
            ]
          },
          "metadata": {}
        },
        {
          "output_type": "stream",
          "name": "stdout",
          "text": [
            "Total reward: 0.5680000000000001\n",
            "Total length: 24\n"
          ]
        },
        {
          "output_type": "display_data",
          "data": {
            "text/plain": [
              "<IPython.core.display.HTML object>"
            ],
            "text/html": [
              "<video alt=\"test\" autoplay \n",
              "                loop controls style=\"height: 400px;\">\n",
              "                <source src=\"data:video/mp4;base64,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\" type=\"video/mp4\" />\n",
              "             </video>"
            ]
          },
          "metadata": {}
        }
      ],
      "source": [
        "# final reward + policy plotting for easier evaluation\n",
        "plot_learning_curve(rewards, success_rate, params.num_updates)\n",
        "for _ in range(3):\n",
        "    log_policy_rollout(policy, params.env_name, pytorch_policy=True)"
      ]
    },
    {
      "cell_type": "code",
      "execution_count": null,
      "metadata": {
        "id": "2yIha0XGJQVL"
      },
      "outputs": [],
      "source": []
    }
  ],
  "metadata": {
    "kernelspec": {
      "display_name": "Python 3",
      "language": "python",
      "name": "python3"
    },
    "language_info": {
      "codemirror_mode": {
        "name": "ipython",
        "version": 3
      },
      "file_extension": ".py",
      "mimetype": "text/x-python",
      "name": "python",
      "nbconvert_exporter": "python",
      "pygments_lexer": "ipython3",
      "version": "3.7.6"
    },
    "colab": {
      "provenance": [],
      "include_colab_link": true
    }
  },
  "nbformat": 4,
  "nbformat_minor": 0
}