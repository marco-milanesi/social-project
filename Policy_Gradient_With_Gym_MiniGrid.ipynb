{
  "cells": [
    {
      "cell_type": "markdown",
      "metadata": {
        "id": "view-in-github",
        "colab_type": "text"
      },
      "source": [
        "<a href=\"https://colab.research.google.com/github/marco-milanesi/social-project/blob/main/Policy_Gradient_With_Gym_MiniGrid.ipynb\" target=\"_parent\"><img src=\"https://colab.research.google.com/assets/colab-badge.svg\" alt=\"Open In Colab\"/></a>"
      ]
    },
    {
      "cell_type": "code",
      "source": [
        "from google.colab import drive\n",
        "drive.mount('/content/gdrive')"
      ],
      "metadata": {
        "colab": {
          "base_uri": "https://localhost:8080/"
        },
        "id": "ESJzPtLgMX-d",
        "outputId": "8dc9b88f-e777-4534-cf03-00a6f75fb1a8"
      },
      "execution_count": null,
      "outputs": [
        {
          "output_type": "stream",
          "name": "stdout",
          "text": [
            "Mounted at /content/gdrive\n"
          ]
        }
      ]
    },
    {
      "cell_type": "code",
      "source": [
        "import os\n",
        "path = \"/content/gdrive/MyDrive/Colab Notebooks/social robotics/project\"\n",
        "os.chdir(path)"
      ],
      "metadata": {
        "id": "BVgOqci2NZsb"
      },
      "execution_count": 3,
      "outputs": []
    },
    {
      "cell_type": "code",
      "source": [
        "pip install gym==0.22"
      ],
      "metadata": {
        "id": "__c32y1rJbTR",
        "outputId": "21ce0529-3855-498a-dd10-0c8c2d33fc9b",
        "colab": {
          "base_uri": "https://localhost:8080/"
        }
      },
      "execution_count": 4,
      "outputs": [
        {
          "output_type": "stream",
          "name": "stdout",
          "text": [
            "Looking in indexes: https://pypi.org/simple, https://us-python.pkg.dev/colab-wheels/public/simple/\n",
            "Collecting gym==0.22\n",
            "  Downloading gym-0.22.0.tar.gz (631 kB)\n",
            "\u001b[K     |████████████████████████████████| 631 kB 6.7 MB/s \n",
            "\u001b[?25h  Installing build dependencies ... \u001b[?25l\u001b[?25hdone\n",
            "  Getting requirements to build wheel ... \u001b[?25l\u001b[?25hdone\n",
            "    Preparing wheel metadata ... \u001b[?25l\u001b[?25hdone\n",
            "Requirement already satisfied: numpy>=1.18.0 in /usr/local/lib/python3.7/dist-packages (from gym==0.22) (1.21.6)\n",
            "Requirement already satisfied: cloudpickle>=1.2.0 in /usr/local/lib/python3.7/dist-packages (from gym==0.22) (1.5.0)\n",
            "Requirement already satisfied: gym-notices>=0.0.4 in /usr/local/lib/python3.7/dist-packages (from gym==0.22) (0.0.8)\n",
            "Requirement already satisfied: importlib-metadata>=4.10.0 in /usr/local/lib/python3.7/dist-packages (from gym==0.22) (4.13.0)\n",
            "Requirement already satisfied: zipp>=0.5 in /usr/local/lib/python3.7/dist-packages (from importlib-metadata>=4.10.0->gym==0.22) (3.10.0)\n",
            "Requirement already satisfied: typing-extensions>=3.6.4 in /usr/local/lib/python3.7/dist-packages (from importlib-metadata>=4.10.0->gym==0.22) (4.1.1)\n",
            "Building wheels for collected packages: gym\n",
            "  Building wheel for gym (PEP 517) ... \u001b[?25l\u001b[?25hdone\n",
            "  Created wheel for gym: filename=gym-0.22.0-py3-none-any.whl size=708394 sha256=3c6946bd31d2ce145c89a0d4c2fc6b499fe15c4d971be9128143d340a8e95058\n",
            "  Stored in directory: /root/.cache/pip/wheels/7d/5e/87/7d50e0179edda70feff5bba05c381041e1c1fd80c6b06a4cc3\n",
            "Successfully built gym\n",
            "Installing collected packages: gym\n",
            "  Attempting uninstall: gym\n",
            "    Found existing installation: gym 0.25.2\n",
            "    Uninstalling gym-0.25.2:\n",
            "      Successfully uninstalled gym-0.25.2\n",
            "Successfully installed gym-0.22.0\n"
          ]
        }
      ]
    },
    {
      "cell_type": "code",
      "source": [
        "pip install gym-minigrid==1.0.0"
      ],
      "metadata": {
        "id": "VY_zeN60JtBR",
        "outputId": "28120672-1854-40b1-cfd0-fafef1c70d6f",
        "colab": {
          "base_uri": "https://localhost:8080/"
        }
      },
      "execution_count": 5,
      "outputs": [
        {
          "output_type": "stream",
          "name": "stdout",
          "text": [
            "Looking in indexes: https://pypi.org/simple, https://us-python.pkg.dev/colab-wheels/public/simple/\n",
            "Collecting gym-minigrid==1.0.0\n",
            "  Downloading gym_minigrid-1.0.0-py3-none-any.whl (43 kB)\n",
            "\u001b[K     |████████████████████████████████| 43 kB 1.9 MB/s \n",
            "\u001b[?25hRequirement already satisfied: numpy>=1.15.0 in /usr/local/lib/python3.7/dist-packages (from gym-minigrid==1.0.0) (1.21.6)\n",
            "Requirement already satisfied: gym>=0.9.6 in /usr/local/lib/python3.7/dist-packages (from gym-minigrid==1.0.0) (0.22.0)\n",
            "Requirement already satisfied: importlib-metadata>=4.10.0 in /usr/local/lib/python3.7/dist-packages (from gym>=0.9.6->gym-minigrid==1.0.0) (4.13.0)\n",
            "Requirement already satisfied: cloudpickle>=1.2.0 in /usr/local/lib/python3.7/dist-packages (from gym>=0.9.6->gym-minigrid==1.0.0) (1.5.0)\n",
            "Requirement already satisfied: gym-notices>=0.0.4 in /usr/local/lib/python3.7/dist-packages (from gym>=0.9.6->gym-minigrid==1.0.0) (0.0.8)\n",
            "Requirement already satisfied: typing-extensions>=3.6.4 in /usr/local/lib/python3.7/dist-packages (from importlib-metadata>=4.10.0->gym>=0.9.6->gym-minigrid==1.0.0) (4.1.1)\n",
            "Requirement already satisfied: zipp>=0.5 in /usr/local/lib/python3.7/dist-packages (from importlib-metadata>=4.10.0->gym>=0.9.6->gym-minigrid==1.0.0) (3.10.0)\n",
            "Installing collected packages: gym-minigrid\n",
            "Successfully installed gym-minigrid-1.0.0\n"
          ]
        }
      ]
    },
    {
      "cell_type": "markdown",
      "metadata": {
        "id": "GsXXsGaMJQU_"
      },
      "source": [
        "# Policy Gradient with gym-MiniGrid\n",
        "> In this session, it will show the pytorch-implemented Policy Gradient in Gym-MiniGrid Environment.  Through this, you will know how to implement Vanila Policy Gradient (also known as REINFORCE), and test it on open source RL environment.\n",
        "\n",
        "- toc: true \n",
        "- badges: true\n",
        "- comments: true\n",
        "- author: Chanseok Kang\n",
        "- categories: [Python, PyTorch, Reinforcement_Learning]\n",
        "- image: images/Minigrid_sample.png"
      ]
    },
    {
      "cell_type": "markdown",
      "metadata": {
        "id": "TrjP7ihNJQVC"
      },
      "source": [
        "## Basic Jupyter Setting"
      ]
    },
    {
      "cell_type": "code",
      "execution_count": 6,
      "metadata": {
        "id": "L35hV9U3JQVD"
      },
      "outputs": [],
      "source": [
        "import numpy as np\n",
        "import matplotlib.pyplot as plt\n",
        "from pprint import pprint\n",
        "\n",
        "%matplotlib inline\n",
        "plt.rcParams['figure.figsize'] = (10.0, 8.0) # set default size of plots\n",
        "plt.rcParams['image.interpolation'] = 'nearest'\n",
        "plt.rcParams['image.cmap'] = 'gray'\n",
        "\n",
        "# for auto-reloading external modules\n",
        "# see http://stackoverflow.com/questions/1907993/autoreload-of-modules-in-ipython\n",
        "%load_ext autoreload\n",
        "%autoreload 2"
      ]
    },
    {
      "cell_type": "markdown",
      "metadata": {
        "id": "prBMIaqjJQVF"
      },
      "source": [
        "## Setup the environment\n",
        "Gridworld is widely used in RL environment. [Gym-MiniGrid](https://github.com/maximecb/gym-minigrid) is custom GridWorld environment of OpenAI [gym](https://github.com/openai/gym) style. Before dive in this environment, you need to install both of them.\n",
        "```\n",
        "pip install gym\n",
        "pip install gym-minigrid \n",
        "```\n",
        "At first, Let's look at some frames of MiniGrid."
      ]
    },
    {
      "cell_type": "code",
      "execution_count": 7,
      "metadata": {
        "id": "-0DQRfvIJQVF",
        "outputId": "eb0d593c-a97e-4187-cff5-5aac904df709",
        "colab": {
          "base_uri": "https://localhost:8080/",
          "height": 347
        }
      },
      "outputs": [
        {
          "output_type": "stream",
          "name": "stderr",
          "text": [
            "\n"
          ]
        },
        {
          "output_type": "display_data",
          "data": {
            "text/plain": [
              "<Figure size 720x576 with 1 Axes>"
            ],
            "image/png": "[encoded data removed]"
          },
          "metadata": {
            "needs_background": "light"
          }
        }
      ],
      "source": [
        "import gym\n",
        "import gym_minigrid\n",
        "\n",
        "env = gym.make('MiniGrid-Empty-5x5-v0')\n",
        "env.reset()\n",
        "before_img = env.render('rgb_array')\n",
        "action = env.actions.forward\n",
        "obs, reward, done, info = env.step(action)\n",
        "after_img = env.render('rgb_array')\n",
        "\n",
        "plt.imshow(np.concatenate([before_img, after_img], 1));"
      ]
    },
    {
      "cell_type": "markdown",
      "metadata": {
        "id": "QChEGy6mJQVG"
      },
      "source": [
        "This is the example of `MiniGrid-Empty-5x5-v0` environment. There are some blank cells, and gray obstacle which the agent cannot pass it. And the green cell is the goal to reach. The ultimate goal of this environment (and most of RL problem) is to find the optimal policy with highest reward. In this case, well-trained agent should find the optimal path to reach the goal.\n",
        "\n",
        "Let's move to more larger environment `MiniGrid-Empty-8x8-v0`, and find the information what we can get."
      ]
    },
    {
      "cell_type": "code",
      "execution_count": 8,
      "metadata": {
        "id": "WC6NkKHwJQVG",
        "outputId": "d08040f8-1821-40c9-a1fe-976298cbde14",
        "colab": {
          "base_uri": "https://localhost:8080/",
          "height": 1000
        }
      },
      "outputs": [
        {
          "output_type": "stream",
          "name": "stdout",
          "text": [
            "Observation: {'image': array([[[2, 5, 0],\n",
            "        [1, 0, 0],\n",
            "        [1, 0, 0],\n",
            "        [1, 0, 0],\n",
            "        [1, 0, 0],\n",
            "        [1, 0, 0],\n",
            "        [1, 0, 0]],\n",
            "\n",
            "       [[2, 5, 0],\n",
            "        [1, 0, 0],\n",
            "        [1, 0, 0],\n",
            "        [1, 0, 0],\n",
            "        [1, 0, 0],\n",
            "        [1, 0, 0],\n",
            "        [1, 0, 0]],\n",
            "\n",
            "       [[2, 5, 0],\n",
            "        [1, 0, 0],\n",
            "        [1, 0, 0],\n",
            "        [1, 0, 0],\n",
            "        [1, 0, 0],\n",
            "        [1, 0, 0],\n",
            "        [1, 0, 0]],\n",
            "\n",
            "       [[2, 5, 0],\n",
            "        [1, 0, 0],\n",
            "        [1, 0, 0],\n",
            "        [1, 0, 0],\n",
            "        [1, 0, 0],\n",
            "        [1, 0, 0],\n",
            "        [1, 0, 0]],\n",
            "\n",
            "       [[2, 5, 0],\n",
            "        [2, 5, 0],\n",
            "        [2, 5, 0],\n",
            "        [2, 5, 0],\n",
            "        [2, 5, 0],\n",
            "        [2, 5, 0],\n",
            "        [2, 5, 0]],\n",
            "\n",
            "       [[2, 5, 0],\n",
            "        [2, 5, 0],\n",
            "        [2, 5, 0],\n",
            "        [2, 5, 0],\n",
            "        [2, 5, 0],\n",
            "        [2, 5, 0],\n",
            "        [2, 5, 0]],\n",
            "\n",
            "       [[2, 5, 0],\n",
            "        [2, 5, 0],\n",
            "        [2, 5, 0],\n",
            "        [2, 5, 0],\n",
            "        [2, 5, 0],\n",
            "        [2, 5, 0],\n",
            "        [2, 5, 0]]], dtype=uint8), 'direction': 1, 'mission': 'get to the green goal square'}\n",
            "Reward: 0\n",
            "Done: False\n",
            "Info: {}\n",
            "Image shape: (256, 256, 3)\n"
          ]
        },
        {
          "output_type": "display_data",
          "data": {
            "text/plain": [
              "<Figure size 720x576 with 1 Axes>"
            ],
            "image/png": "[encoded data removed]"
          },
          "metadata": {
            "needs_background": "light"
          }
        }
      ],
      "source": [
        "# Make a new environment MiniGrid-Empty-8x8-v0\n",
        "env = gym.make('MiniGrid-Empty-8x8-v0')\n",
        "\n",
        "# Reset the environment\n",
        "env.reset()\n",
        "\n",
        "# Select the action right (sample action)\n",
        "action = env.actions.right\n",
        "\n",
        "# Take a step in the environment and store it in appropriate variables\n",
        "obs, reward, done, info = env.step(action)\n",
        "\n",
        "# Render the current state of the environment\n",
        "img = env.render('rgb_array')\n",
        "\n",
        "print('Observation:', obs)\n",
        "print('Reward:', reward)\n",
        "print('Done:', done)\n",
        "print('Info:', info)\n",
        "print('Image shape:', img.shape)\n",
        "plt.imshow(img);"
      ]
    },
    {
      "cell_type": "markdown",
      "metadata": {
        "id": "vpPJavCwJQVG"
      },
      "source": [
        "As the agent take an action, environment (MiniGrid) will be changed with respect to action. \n",
        "If the agent want to find the optimal path, the agent should notice the difference between current state and next state while taking an action. To help this, the environment generates next state, reward, and terminal flags.\n",
        "\n",
        "Some helper function offers to render the sample action in Jupyter Notebook."
      ]
    },
    {
      "cell_type": "code",
      "execution_count": 9,
      "metadata": {
        "id": "s3G49XCQJQVH"
      },
      "outputs": [],
      "source": [
        "import base64\n",
        "import glob\n",
        "import io\n",
        "from IPython.display import HTML\n",
        "from IPython import display \n",
        "\n",
        "def show_video():\n",
        "    mp4list = glob.glob('video/*.mp4')\n",
        "    if len(mp4list) > 0:\n",
        "        mp4 = mp4list[0]\n",
        "        video = io.open(mp4, 'r+b').read()\n",
        "        encoded = base64.b64encode(video)\n",
        "        display.display(HTML(data='''<video alt=\"test\" autoplay \n",
        "                loop controls style=\"height: 400px;\">\n",
        "                <source src=\"data:video/mp4;base64,{0}\" type=\"video/mp4\" />\n",
        "             </video>'''.format(encoded.decode('ascii'))))\n",
        "    else:\n",
        "        print(\"Could not find video\")"
      ]
    },
    {
      "cell_type": "markdown",
      "metadata": {
        "id": "pVvQ-DzGJQVH"
      },
      "source": [
        "To help agent training easily, MiniGrid offers `FlatObsWrapper` for flattening observation (in other words, 1D array)"
      ]
    },
    {
      "cell_type": "code",
      "execution_count": 10,
      "metadata": {
        "id": "NjuSE-i0JQVH"
      },
      "outputs": [],
      "source": [
        "import gym\n",
        "from gym import spaces\n",
        "from gym_minigrid.minigrid import OBJECT_TO_IDX, COLOR_TO_IDX\n",
        "\n",
        "max_env_steps = 50\n",
        "\n",
        "class FlatObsWrapper(gym.core.ObservationWrapper):\n",
        "    \"\"\"Fully observable gridworld returning a flat grid encoding.\"\"\"\n",
        "\n",
        "    def __init__(self, env):\n",
        "        super().__init__(env)\n",
        "\n",
        "        # Since the outer walls are always present, we remove left, right, top, bottom walls\n",
        "        # from the observation space of the agent. There are 3 channels, but for simplicity\n",
        "        # in this assignment, we will deal with flattened version of state.\n",
        "        \n",
        "        self.observation_space = spaces.Box(\n",
        "            low=0,\n",
        "            high=255,\n",
        "            shape=((self.env.width-2) * (self.env.height-2) * 3,),  # number of cells\n",
        "            dtype='uint8'\n",
        "        )\n",
        "        self.unwrapped.max_steps = max_env_steps\n",
        "\n",
        "    def observation(self, obs):\n",
        "        # this method is called in the step() function to get the observation\n",
        "        # we provide code that gets the grid state and places the agent in it\n",
        "        env = self.unwrapped\n",
        "        full_grid = env.grid.encode()\n",
        "        full_grid[env.agent_pos[0]][env.agent_pos[1]] = np.array([\n",
        "            OBJECT_TO_IDX['agent'],\n",
        "            COLOR_TO_IDX['red'],\n",
        "            env.agent_dir\n",
        "        ])\n",
        "        full_grid = full_grid[1:-1, 1:-1]   # remove outer walls of the environment (for efficiency)\n",
        "        \n",
        "        flattened_grid = full_grid.ravel()\n",
        "        return flattened_grid\n",
        "    \n",
        "    def render(self, *args, **kwargs):\n",
        "        \"\"\"This removes the default visualization of the partially observable field of view.\"\"\"\n",
        "        kwargs['highlight'] = False\n",
        "        return self.unwrapped.render(*args, **kwargs)"
      ]
    },
    {
      "cell_type": "markdown",
      "metadata": {
        "id": "VxqMf0daJQVI"
      },
      "source": [
        "So It's time to run with sample action!"
      ]
    },
    {
      "cell_type": "code",
      "execution_count": 11,
      "metadata": {
        "id": "inyxGR6vJQVI",
        "outputId": "989ad9a0-f58d-4bb8-fcec-1d41861a5817",
        "colab": {
          "base_uri": "https://localhost:8080/",
          "height": 642
        }
      },
      "outputs": [
        {
          "output_type": "stream",
          "name": "stdout",
          "text": [
            "Observation: [10  0  1  1  0  0  1  0  0  1  0  0  1  0  0  1  0  0  1  0  0  1  0  0\n",
            "  1  0  0  1  0  0  1  0  0  1  0  0  1  0  0  1  0  0  1  0  0  1  0  0\n",
            "  1  0  0  1  0  0  1  0  0  1  0  0  1  0  0  1  0  0  1  0  0  1  0  0\n",
            "  1  0  0  1  0  0  1  0  0  1  0  0  1  0  0  1  0  0  1  0  0  1  0  0\n",
            "  1  0  0  1  0  0  1  0  0  8  1  0] , Observation Shape:  (108,)\n",
            "Reward: 0\n",
            "Done: False\n",
            "Info: {}\n",
            "Image shape: (256, 256, 3)\n"
          ]
        },
        {
          "output_type": "display_data",
          "data": {
            "text/plain": [
              "<Figure size 720x576 with 1 Axes>"
            ],
            "image/png": "[encoded data removed]"
          },
          "metadata": {
            "needs_background": "light"
          }
        }
      ],
      "source": [
        "# Convert MiniGrid Environment with Flat Observable \n",
        "env = FlatObsWrapper(gym.make('MiniGrid-Empty-8x8-v0'))\n",
        "\n",
        "# Reset the environment\n",
        "env.reset()\n",
        "\n",
        "# Select the action right\n",
        "action = env.actions.right\n",
        "\n",
        "# Take a step in the environment and store it in appropriate variables\n",
        "obs, reward, done, info = env.step(action)\n",
        "\n",
        "# Render the current state of the environment\n",
        "img = env.render('rgb_array')\n",
        "################# YOUR CODE ENDS HERE ###############################\n",
        "\n",
        "print('Observation:', obs, ', Observation Shape: ', obs.shape)\n",
        "print('Reward:', reward)\n",
        "print('Done:', done)\n",
        "print('Info:', info)\n",
        "print('Image shape:', img.shape)\n",
        "plt.imshow(img);"
      ]
    },
    {
      "cell_type": "markdown",
      "metadata": {
        "id": "dVFeIFUEJQVI"
      },
      "source": [
        "As you can see it in observation, the dimension of observation is changed from 2D to 1D. Using this observation, we will make some kind of neural network to help agent to notice the observation. Let's check the real-time video of random movement."
      ]
    },
    {
      "cell_type": "code",
      "execution_count": 12,
      "metadata": {
        "id": "TttQ5XbxJQVI"
      },
      "outputs": [],
      "source": [
        "from gym.wrappers import Monitor\n",
        "\n",
        "# Monitor is a gym wrapper, which helps easy rendering of videos of the wrapped environment.\n",
        "def wrap_env(env):\n",
        "    env = Monitor(env, './video', force=True)\n",
        "    return env\n",
        "\n",
        "def gen_wrapped_env(env_name):\n",
        "    return wrap_env(FlatObsWrapper(gym.make(env_name)))"
      ]
    },
    {
      "cell_type": "markdown",
      "metadata": {
        "id": "0EEHwtvIJQVI"
      },
      "source": [
        "Currently, OpenAI Gym offers several utils to help understanding the training progress. Monitor is one of that tool to log the history data. If we set the rendering option to `rgb_array`, the video data will be stored in specific path. (Maybe it requires some additional apps such as ffmpeg)"
      ]
    },
    {
      "cell_type": "markdown",
      "metadata": {
        "id": "Bn_wUDQpJQVJ"
      },
      "source": [
        "## Test with Random Policy"
      ]
    },
    {
      "cell_type": "code",
      "execution_count": 13,
      "metadata": {
        "id": "EnncairVJQVJ"
      },
      "outputs": [],
      "source": [
        "# Random agent - we only use it in this cell for demonstration\n",
        "class RandPolicy:\n",
        "    def __init__(self, action_space):\n",
        "        self.action_space = action_space\n",
        "        \n",
        "    def act(self, *unused_args):\n",
        "        return self.action_space.sample(), None"
      ]
    },
    {
      "cell_type": "markdown",
      "metadata": {
        "id": "_eOd2y1DJQVJ"
      },
      "source": [
        "At first, we want check the operation of environment-agent interaction. To do this, Random Policy that generates the \"random action\" is defined. This policy just generates random action from pre-defined action space. And then run it. \n",
        "> Note that `pytorch_policy` flag is set to `False` as a default. But to implement the policy gradient, the gradient calculation is required, and pytorch will be used."
      ]
    },
    {
      "cell_type": "code",
      "execution_count": 14,
      "metadata": {
        "id": "eWgM0xujJQVJ",
        "outputId": "477682d6-de47-4498-a6f5-a57a63b5c6d0",
        "colab": {
          "base_uri": "https://localhost:8080/",
          "height": 456
        }
      },
      "outputs": [
        {
          "output_type": "stream",
          "name": "stdout",
          "text": [
            "Total reward: 0\n",
            "Total length: 50\n"
          ]
        },
        {
          "output_type": "display_data",
          "data": {
            "text/plain": [
              "<IPython.core.display.HTML object>"
            ],
            "text/html": [
              "<video alt=\"test\" autoplay \n",
              "                loop controls style=\"height: 400px;\">\n",
              "                <source src=\"data:video/mp4;base64,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\" type=\"video/mp4\" />\n",
              "             </video>"
            ]
          },
          "metadata": {}
        }
      ],
      "source": [
        "# This function plots videos of rollouts (episodes) of a given policy and environment\n",
        "def log_policy_rollout(policy, env_name, pytorch_policy=False):\n",
        "    # Create environment with flat observation\n",
        "    env = gen_wrapped_env(env_name)\n",
        "\n",
        "    # Initialize environment\n",
        "    observation = env.reset()\n",
        "\n",
        "    done = False\n",
        "    episode_reward = 0\n",
        "    episode_length = 0\n",
        "\n",
        "    # Run until done == True\n",
        "    while not done:\n",
        "      # Take a step\n",
        "        if pytorch_policy: \n",
        "            observation = torch.tensor(observation, dtype=torch.float32)\n",
        "            action = policy.act(observation)[0].data.cpu().numpy()\n",
        "        else:\n",
        "            action = policy.act(observation)[0]\n",
        "        observation, reward, done, info = env.step(action)\n",
        "\n",
        "        episode_reward += reward\n",
        "        episode_length += 1\n",
        "\n",
        "    print('Total reward:', episode_reward)\n",
        "    print('Total length:', episode_length)\n",
        "\n",
        "    env.close()\n",
        "    \n",
        "    show_video()\n",
        "\n",
        "# Test that the logging function is working\n",
        "test_env_name = 'MiniGrid-Empty-8x8-v0'\n",
        "rand_policy = RandPolicy(FlatObsWrapper(gym.make(test_env_name)).action_space)\n",
        "log_policy_rollout(rand_policy, test_env_name)"
      ]
    },
    {
      "cell_type": "markdown",
      "metadata": {
        "id": "H1EOAiDKJQVJ"
      },
      "source": [
        "That's the agent work with Random Policy. We found out that Random Policy is not optimal policy since the agent (the red one) cannot reach the goal.(or maybe it'll reach the goal after infinite times go on...)  So to reach the goal, it requires more intelligent policy. In natural sense of mind, it needs,\n",
        "\n",
        "- Remember the previous trajectory\n",
        "- When it goes to unknown cell, based on the experience with memory, use it to find the way to goal"
      ]
    },
    {
      "cell_type": "markdown",
      "metadata": {
        "id": "7G815n3OJQVJ"
      },
      "source": [
        "## Implement Rollout Buffer\n",
        "Before implementing Policy Gradient, it requires to implement memory object to store the previous trajectory or information offered from environment. Sometimes, it is called \"Replay Buffer\" or \"Rollout Buffer\", but in this page, RolloutBuffer will be used for expression. To implement Rollout Buffer, we need to consider such that,\n",
        "\n",
        "- how many trajectories stored in buffer?\n",
        "- how to add trajectory into the buffer?\n",
        "- (In view of Reinforcement Learning) how to calculate the future reward based on previous reward\n",
        "- (+) how to sample the trajectory efficiently?\n",
        "\n",
        "So this is RolloutBuffer implementation!"
      ]
    },
    {
      "cell_type": "code",
      "execution_count": 15,
      "metadata": {
        "id": "4J6UZToLJQVJ"
      },
      "outputs": [],
      "source": [
        "from torch.utils.data.sampler import BatchSampler, SubsetRandomSampler\n",
        "\n",
        "class RolloutBuffer():\n",
        "    def __init__(self, rollout_size, obs_size):\n",
        "        self.rollout_size = rollout_size\n",
        "        self.obs_size = obs_size\n",
        "        self.reset()\n",
        "        \n",
        "    def insert(self, step, done, action, log_prob, reward, obs):    \n",
        "        self.done[step].copy_(done)\n",
        "        self.actions[step].copy_(action)\n",
        "        self.log_probs[step].copy_(log_prob)\n",
        "        self.rewards[step].copy_(reward)\n",
        "        self.obs[step].copy_(obs)\n",
        "        \n",
        "    def reset(self):\n",
        "        self.done = torch.zeros(self.rollout_size, 1)\n",
        "        self.returns = torch.zeros(self.rollout_size + 1, 1, requires_grad=False)\n",
        "        # Assuming Discrete Action Space\n",
        "        self.actions = torch.zeros(self.rollout_size, 1, dtype=torch.int64)  \n",
        "        self.log_probs = torch.zeros(self.rollout_size, 1)\n",
        "        self.rewards = torch.zeros(self.rollout_size, 1)\n",
        "        self.obs = torch.zeros(self.rollout_size, self.obs_size)\n",
        "        \n",
        "    def compute_returns(self, gamma):\n",
        "        # Compute Returns until the last finished episode\n",
        "        self.last_done = (self.done == 1).nonzero().max()  \n",
        "        self.returns[self.last_done + 1] = 0.\n",
        "\n",
        "        # Accumulate discounted returns\n",
        "        for step in reversed(range(self.last_done + 1)):\n",
        "            self.returns[step] = self.returns[step + 1] * \\\n",
        "                gamma * (1 - self.done[step]) + self.rewards[step]\n",
        "        \n",
        "    def batch_sampler(self, batch_size, get_old_log_probs=False):\n",
        "        sampler = BatchSampler(\n",
        "            SubsetRandomSampler(range(self.last_done)),\n",
        "            batch_size,\n",
        "            drop_last=True)\n",
        "        for indices in sampler:\n",
        "            if get_old_log_probs:\n",
        "                yield self.actions[indices], self.returns[indices], self.obs[indices], self.log_probs[indices]\n",
        "            else:\n",
        "                yield self.actions[indices], self.returns[indices], self.obs[indices]"
      ]
    },
    {
      "cell_type": "markdown",
      "metadata": {
        "id": "8kY3FP8sJQVK"
      },
      "source": [
        "There are couple of things to notice that,\n",
        "\n",
        "- All information stored in RolloutBuffer should get the type of `torch.Tensor`\n",
        "- In this case, returns will be used for minimizing the loss. So returns object should set the `requires_grad` to `True`\n",
        "- It is inefficient to use all information to train the policy. To handle it, it requires something special sampling strategy. In this code, `BatchSample` is used."
      ]
    },
    {
      "cell_type": "markdown",
      "metadata": {
        "id": "4PaFECWgJQVK"
      },
      "source": [
        "## Construct Policy Network\n",
        "\n",
        "Now that we can store rollouts we need a policy to collect them. In the following you will complete the provided base code for the policy class. The policy is instantiated as a small neural network with simple fully-connected layers, the `ActorNetwork`. The role of policy is sort of strategy that generates the action. (Actually, it is just the probability to generate the action).\n",
        " And Of course, the important work through `ActorNetwork` is to update policy per each iteration. With pytorch, we need to define,\n",
        " \n",
        "- What optimizer should we use?\n",
        "- How can we define the loss function?\n",
        "\n",
        "At first, Let's look gradient function used in policy gradient,\n",
        "\n",
        "$$ \\nabla J(\\theta) = \\mathbb{E}_{\\pi}\\big[ \\nabla_{\\theta} \\log \\pi_{\\theta}(a, s) \\; V_t(s) \\big] $$\n",
        "\n",
        "Here, $\\theta$ are the parameters of the policy network $\\pi_{\\theta}$ and $V_t(s)$ is the observed future discounted reward from state $s$ onwards which should be **maximized** (we need to focus on this keyword, since the purpose of neural network training is to **minimize** the loss, not **maximize**). So anyway we need the calculate the gradient of $\\log \\pi_{\\theta}(a, s)$ and calculate its mean.\n",
        "\n",
        "And Plus, there are some approaches to enhance the exploration. If we can consider the **entropy loss** to handle the overall loss, it takes diverse action. At that case gradient fuction will be,\n",
        "\n",
        "$$ \\nabla J(\\theta) = \\mathbb{E}_{\\pi}\\big[ \\nabla_{\\theta} \\log \\pi_{\\theta}(a, s) \\; V_t(s) \\big] + \\nabla_{\\theta}\\mathcal{H}\\big[\\pi_\\theta(a, s)\\big]$$\n",
        "\n",
        "And here is the implementation of Actor Network (and it's quite simple!)"
      ]
    },
    {
      "cell_type": "code",
      "execution_count": 16,
      "metadata": {
        "id": "z0AvBgxQJQVK"
      },
      "outputs": [],
      "source": [
        "import torch\n",
        "import torch.nn as nn\n",
        "\n",
        "class ActorNetwork(nn.Module):\n",
        "    def __init__(self, num_inputs, num_actions, hidden_dim):\n",
        "        super().__init__()\n",
        "        self.num_actions = num_actions\n",
        "        \n",
        "        self.fc = nn.Sequential(\n",
        "            nn.Linear(num_inputs, hidden_dim),\n",
        "            nn.Tanh(),\n",
        "            nn.Linear(hidden_dim, hidden_dim),\n",
        "            nn.Tanh(),\n",
        "            nn.Linear(hidden_dim, num_actions)\n",
        "        )\n",
        "        \n",
        "    def forward(self, state):\n",
        "        x = self.fc(state)\n",
        "        return x"
      ]
    },
    {
      "cell_type": "code",
      "source": [
        "!wget https://raw.githubusercontent.com/goodboychan/goodboychan.github.io/main/_notebooks/utils/utils.py"
      ],
      "metadata": {
        "id": "qPhabPajLNM_",
        "outputId": "a450f31a-4adc-487d-c38f-e6ff5f4cdca2",
        "colab": {
          "base_uri": "https://localhost:8080/"
        }
      },
      "execution_count": 17,
      "outputs": [
        {
          "output_type": "stream",
          "name": "stdout",
          "text": [
            "--2022-11-10 15:44:40--  https://raw.githubusercontent.com/goodboychan/goodboychan.github.io/main/_notebooks/utils/utils.py\n",
            "Resolving raw.githubusercontent.com (raw.githubusercontent.com)... 185.199.108.133, 185.199.109.133, 185.199.111.133, ...\n",
            "Connecting to raw.githubusercontent.com (raw.githubusercontent.com)|185.199.108.133|:443... connected.\n",
            "HTTP request sent, awaiting response... 200 OK\n",
            "Length: 3363 (3.3K) [text/plain]\n",
            "Saving to: ‘utils.py’\n",
            "\n",
            "utils.py            100%[===================>]   3.28K  --.-KB/s    in 0.001s  \n",
            "\n",
            "2022-11-10 15:44:40 (2.76 MB/s) - ‘utils.py’ saved [3363/3363]\n",
            "\n"
          ]
        }
      ]
    },
    {
      "cell_type": "code",
      "source": [
        "from google.colab import drive\n",
        "drive.mount('/content/gdrive')"
      ],
      "metadata": {
        "id": "D8S7YCy2LwIW",
        "outputId": "d04099b6-3d08-4f0a-fb76-38ef6815c3b6",
        "colab": {
          "base_uri": "https://localhost:8080/"
        }
      },
      "execution_count": 18,
      "outputs": [
        {
          "output_type": "stream",
          "name": "stdout",
          "text": [
            "Drive already mounted at /content/gdrive; to attempt to forcibly remount, call drive.mount(\"/content/gdrive\", force_remount=True).\n"
          ]
        }
      ]
    },
    {
      "cell_type": "markdown",
      "metadata": {
        "id": "4tld4dvaJQVK"
      },
      "source": [
        "And Below is the implementation of Policy. We select the Adam Optimizer "
      ]
    },
    {
      "cell_type": "code",
      "source": [
        "import glob\n",
        "import io\n",
        "import base64\n",
        "import numpy as np\n",
        "import pandas as pd\n",
        "import seaborn as sns\n",
        "np.set_printoptions(precision=2, suppress=True)\n",
        "\n",
        "import matplotlib\n",
        "import matplotlib.pyplot as plt\n",
        "\n",
        "from IPython.display import HTML\n",
        "from IPython import display as ipythondisplay\n",
        "\n",
        "\n",
        "\"\"\"\n",
        "Utility functions to enable video recording of gym environment and displaying it\n",
        "To enable video, just do \"env = wrap_env(env)\"\"\n",
        "\"\"\"\n",
        "\n",
        "\n",
        "def show_video():\n",
        "    mp4list = glob.glob('video/*.mp4')\n",
        "    if len(mp4list) > 0:\n",
        "        mp4 = mp4list[0]\n",
        "        video = io.open(mp4, 'r+b').read()\n",
        "        encoded = base64.b64encode(video)\n",
        "        ipythondisplay.display(HTML(data='''<video alt=\"test\" autoplay \n",
        "                loop controls style=\"height: 400px;\">\n",
        "                <source src=\"data:video/mp4;base64,{0}\" type=\"video/mp4\" />\n",
        "             </video>'''.format(encoded.decode('ascii'))))\n",
        "    else:\n",
        "        print(\"Could not find video\")\n",
        "\n",
        "\n",
        "class AverageMeter(object):\n",
        "    \"\"\"Computes and stores the average and current value\"\"\"\n",
        "\n",
        "    def __init__(self):\n",
        "        self.reset()\n",
        "\n",
        "    def reset(self):\n",
        "        self.val = 0\n",
        "        self.avg = 0\n",
        "        self.sum = 0\n",
        "        self.count = 0\n",
        "\n",
        "    def update(self, val, n=1):\n",
        "        self.val = val\n",
        "        self.sum += val * n\n",
        "        self.count += n\n",
        "        self.avg = self.sum / self.count\n",
        "\n",
        "\n",
        "def count_model_params(model):\n",
        "    return sum(p.numel() for p in model.parameters())\n",
        "\n",
        "\n",
        "def plot_grid_std_learning_curves(d, num_it):\n",
        "    for i, key in enumerate(d):\n",
        "        ax = plt.subplot(2, 2, i+1)\n",
        "        rewards, success_rates = d[key]\n",
        "        plot_std_learning_curves(rewards, success_rates, num_it, no_show=True)\n",
        "        ax.set_title(key)\n",
        "    plt.show()\n",
        "\n",
        "\n",
        "def plot_std_learning_curves(rewards, success_rates, num_it, no_show=False):\n",
        "    r, sr = np.asarray(rewards), np.asarray(success_rates)\n",
        "    df = pd.DataFrame(r).melt()\n",
        "    sns.lineplot(x=\"variable\", y=\"value\", data=df, label='reward/eps')\n",
        "    df = pd.DataFrame(sr).melt()\n",
        "    sns.lineplot(x=\"variable\", y=\"value\", data=df, label='success rate')\n",
        "    plt.xlabel(\"Training iterations\")\n",
        "    plt.ylabel(\"\")\n",
        "    plt.xlim([0, num_it])\n",
        "    plt.ylim([0, 1])\n",
        "    plt.legend()\n",
        "    plt.grid('on')\n",
        "    if not no_show:\n",
        "        plt.show()\n",
        "\n",
        "\n",
        "def plot_learning_curve(rewards, success_rate, num_it, plot_std=False):\n",
        "    if plot_std:\n",
        "        # plots shaded regions if list of reward timeseries is given\n",
        "        plot_std_learning_curves(rewards, success_rate, num_it)\n",
        "    else:\n",
        "        plt.plot(rewards, label='reward/eps')\n",
        "        if success_rate:\n",
        "            plt.plot(success_rate, label='success rate')\n",
        "            plt.legend()\n",
        "        else:\n",
        "            plt.ylabel('return / eps')\n",
        "        plt.ylim([0, 1])\n",
        "        plt.xlim([0, num_it - 1])\n",
        "        plt.xlabel('train iter')\n",
        "        plt.grid('on')\n",
        "        plt.show()\n",
        "\n",
        "# Wrapper around dictionary that enables attribute access instead of the bracket syntax\n",
        "# i.e. you can replace d['item'] with d.item\n",
        "class ParamDict(dict):\n",
        "    __setattr__ = dict.__setitem__\n",
        "    def __getattr__(self, attr):\n",
        "        # Take care that getattr() raises AttributeError, not KeyError.\n",
        "        # Required e.g. for hasattr(), deepcopy and OrderedDict.\n",
        "        try:\n",
        "            return self.__getitem__(attr)\n",
        "        except KeyError:\n",
        "            raise AttributeError(\"Attribute %r not found\" % attr)\n",
        "    def __getstate__(self): return self\n",
        "    def __setstate__(self, d): self = d\n",
        "\n"
      ],
      "metadata": {
        "id": "Qdna_E5aOJLl"
      },
      "execution_count": 21,
      "outputs": []
    },
    {
      "cell_type": "code",
      "execution_count": 22,
      "metadata": {
        "id": "wDdUKqIWJQVK"
      },
      "outputs": [],
      "source": [
        "import torch.optim as optim\n",
        "import torch.nn.functional as F\n",
        "from torch.distributions.categorical import Categorical\n",
        "#from utils.utils import count_model_params\n",
        "\n",
        "class Policy():\n",
        "    def __init__(self, num_inputs, num_actions, hidden_dim, learning_rate,\n",
        "                 batch_size, policy_epochs, entropy_coef=0.001):\n",
        "        self.actor = ActorNetwork(num_inputs, num_actions, hidden_dim)\n",
        "        self.optimizer = optim.Adam(self.actor.parameters(), lr=learning_rate)\n",
        "        self.batch_size = batch_size\n",
        "        self.policy_epochs = policy_epochs\n",
        "        self.entropy_coef = entropy_coef\n",
        "\n",
        "    def act(self, state):\n",
        "        logits = self.actor(state)\n",
        "        # To generate the probability of action, we assume its state has categorical distribution.\n",
        "        dist = Categorical(logits=logits)\n",
        "        action = dist.sample()\n",
        "        log_prob = dist.log_prob(action)\n",
        "        return action, log_prob\n",
        "    \n",
        "    def evaluate_actions(self, state, action):\n",
        "        logits = self.actor(state)\n",
        "        dist = Categorical(logits=logits)\n",
        "        log_prob = dist.log_prob(action.squeeze(-1)).view(-1, 1)\n",
        "        entropy = dist.entropy().view(-1, 1)\n",
        "        return log_prob, entropy\n",
        "    \n",
        "    def update(self, rollouts):\n",
        "        for epoch in range(self.policy_epochs):\n",
        "            data = rollouts.batch_sampler(self.batch_size)\n",
        "            \n",
        "            for sample in data:\n",
        "                actions_batch, returns_batch, obs_batch = sample\n",
        "    \n",
        "                log_probs_batch, entropy_batch = self.evaluate_actions(obs_batch, actions_batch)\n",
        "    \n",
        "                # Compute the mean loss for the policy update using \n",
        "                # action log-probabilities and policy returns\n",
        "                policy_loss = -(log_probs_batch * returns_batch).mean()\n",
        "                # Compute the mean entropy for the policy update \n",
        "                entropy_loss = -entropy_batch.mean()\n",
        "                \n",
        "                loss = policy_loss + self.entropy_coef * entropy_loss\n",
        "                \n",
        "                self.optimizer.zero_grad()\n",
        "                loss.backward(retain_graph=False)\n",
        "                self.optimizer.step()\n",
        "                \n",
        "    @property\n",
        "    def num_params(self):\n",
        "        return count_model_params(self.actor)"
      ]
    },
    {
      "cell_type": "code",
      "execution_count": 23,
      "metadata": {
        "id": "KSWxts3jJQVK"
      },
      "outputs": [],
      "source": [
        "from IPython.display import clear_output\n",
        "#from utils.utils import AverageMeter, plot_learning_curve\n",
        "import time\n",
        "\n",
        "def train(env, rollouts, policy, params, seed=123):\n",
        "    # SETTING SEED: it is good practice to set seeds when running experiments to keep results comparable\n",
        "    np.random.seed(seed)\n",
        "    torch.manual_seed(seed)\n",
        "    env.seed(seed)\n",
        "\n",
        "    rollout_time, update_time = AverageMeter(), AverageMeter()  # Loggers\n",
        "    rewards, success_rate = [], []\n",
        "\n",
        "    print(\"Training model with {} parameters...\".format(policy.num_params))\n",
        "\n",
        "    # Training Loop\n",
        "    for j in range(params.num_updates):\n",
        "        ## Initialization\n",
        "        avg_eps_reward, avg_success_rate = AverageMeter(), AverageMeter()\n",
        "        done = False\n",
        "        prev_obs = env.reset()\n",
        "        prev_obs = torch.tensor(prev_obs, dtype=torch.float32)\n",
        "        eps_reward = 0.\n",
        "        start_time = time.time()\n",
        "        \n",
        "        ## Collect rollouts\n",
        "        for step in range(rollouts.rollout_size):\n",
        "            if done:\n",
        "                # Store episode statistics\n",
        "                avg_eps_reward.update(eps_reward)\n",
        "                if 'success' in info: \n",
        "                    avg_success_rate.update(int(info['success']))\n",
        "\n",
        "                # Reset Environment\n",
        "                obs = env.reset()\n",
        "                obs = torch.tensor(obs, dtype=torch.float32)\n",
        "                eps_reward = 0.\n",
        "            else:\n",
        "                obs = prev_obs\n",
        "\n",
        "            action, log_prob = policy.act(obs)\n",
        "            obs, reward, done, info = env.step(action)\n",
        "\n",
        "            rollouts.insert(step, torch.tensor(done, dtype=torch.float32), action, log_prob, \n",
        "                            torch.tensor(reward, dtype=torch.float32), \n",
        "                            prev_obs)\n",
        "            \n",
        "            prev_obs = torch.tensor(obs, dtype=torch.float32)\n",
        "            eps_reward += reward\n",
        "        \n",
        "        # Use the rollout buffer's function to compute the returns for all stored rollout steps. (requires just 1 line)\n",
        "        rollouts.compute_returns(params['discount'])\n",
        "        \n",
        "        rollout_done_time = time.time()\n",
        "\n",
        "        \n",
        "        # Call the policy's update function using the collected rollouts        \n",
        "        policy.update(rollouts)\n",
        "\n",
        "        update_done_time = time.time()\n",
        "        rollouts.reset()\n",
        "\n",
        "        ## log metrics\n",
        "        rewards.append(avg_eps_reward.avg)\n",
        "        if avg_success_rate.count > 0:\n",
        "            success_rate.append(avg_success_rate.avg)\n",
        "        rollout_time.update(rollout_done_time - start_time)\n",
        "        update_time.update(update_done_time - rollout_done_time)\n",
        "        print('it {}: avgR: {:.3f} -- rollout_time: {:.3f}sec -- update_time: {:.3f}sec'.format(j, \n",
        "                                                                                                avg_eps_reward.avg, \n",
        "                                                                                                rollout_time.avg,\n",
        "                                                                                                update_time.avg))\n",
        "        if j % params.plotting_iters == 0 and j != 0:\n",
        "            plot_learning_curve(rewards, success_rate, params.num_updates)\n",
        "            log_policy_rollout(policy, params.env_name, pytorch_policy=True)\n",
        "    clear_output()   # this removes all training outputs to keep the notebook clean, DON'T REMOVE THIS LINE!\n",
        "    return rewards, success_rate"
      ]
    },
    {
      "cell_type": "code",
      "execution_count": 24,
      "metadata": {
        "id": "KBAtZo1gJQVL"
      },
      "outputs": [],
      "source": [
        "#from utils.utils import ParamDict\n",
        "import copy\n",
        "\n",
        "def instantiate(params_in, nonwrapped_env=None):\n",
        "    params = copy.deepcopy(params_in)\n",
        "\n",
        "    if nonwrapped_env is None:\n",
        "        nonwrapped_env = gym.make(params.env_name)\n",
        "\n",
        "    env = None\n",
        "    env = FlatObsWrapper(nonwrapped_env)    \n",
        "    obs_size = env.observation_space.shape[0]\n",
        "    num_actions = env.action_space.n\n",
        "\n",
        "    rollouts = RolloutBuffer(params.rollout_size, obs_size)\n",
        "    policy_class = params.policy_params.pop('policy_class')\n",
        "    \n",
        "    policy = policy_class(obs_size, num_actions, **params.policy_params)\n",
        "    return env, rollouts, policy"
      ]
    },
    {
      "cell_type": "code",
      "execution_count": 25,
      "metadata": {
        "id": "bAQRL0dJJQVL"
      },
      "outputs": [],
      "source": [
        "# hyperparameters\n",
        "policy_params = ParamDict(\n",
        "    policy_class = Policy,    # Policy class to use (replaced later)     \n",
        "    hidden_dim = 32,          # dimension of the hidden state in actor network\n",
        "    learning_rate = 1e-3,     # learning rate of policy update\n",
        "    batch_size = 1024,        # batch size for policy update\n",
        "    policy_epochs = 4,        # number of epochs per policy update\n",
        "    entropy_coef = 0.001,     # hyperparameter to vary the contribution of entropy loss\n",
        ")\n",
        "params = ParamDict(\n",
        "    policy_params = policy_params,\n",
        "    rollout_size = 2050,      # number of collected rollout steps per policy update\n",
        "    num_updates = 50,         # number of training policy iterations\n",
        "    discount = 0.99,          # discount factor\n",
        "    plotting_iters = 10,      # interval for logging graphs and policy rollouts\n",
        "    env_name = 'MiniGrid-Empty-5x5-v0',  # we are using a tiny environment here for testing\n",
        ")"
      ]
    },
    {
      "cell_type": "code",
      "execution_count": 26,
      "metadata": {
        "id": "t-swYmm4JQVL",
        "colab": {
          "base_uri": "https://localhost:8080/",
          "height": 1000
        },
        "outputId": "68ad36a3-f69a-44dc-c73e-fb6e682f2e2c"
      },
      "outputs": [
        {
          "output_type": "stream",
          "name": "stdout",
          "text": [
            "Training completed!\n"
          ]
        }
      ],
      "source": [
        "env, rollouts, policy = instantiate(params)\n",
        "rewards, success_rate = train(env, rollouts, policy, params)\n",
        "print(\"Training completed!\")"
      ]
    },
    {
      "cell_type": "code",
      "execution_count": 27,
      "metadata": {
        "id": "sq1JjxgxJQVL",
        "colab": {
          "base_uri": "https://localhost:8080/",
          "height": 1000
        },
        "outputId": "ab0b755a-249b-4dab-a7c8-a01496e294d6"
      },
      "outputs": [
        {
          "output_type": "display_data",
          "data": {
            "text/plain": [
              "<Figure size 720x576 with 1 Axes>"
            ],
            "image/png": "[encoded data removed]"
          },
          "metadata": {
            "needs_background": "light"
          }
        },
        {
          "output_type": "stream",
          "name": "stdout",
          "text": [
            "Total reward: 0.766\n",
            "Total length: 13\n"
          ]
        },
        {
          "output_type": "display_data",
          "data": {
            "text/plain": [
              "<IPython.core.display.HTML object>"
            ],
            "text/html": [
              "<video alt=\"test\" autoplay \n",
              "                loop controls style=\"height: 400px;\">\n",
              "                <source src=\"data:video/mp4;base64,AAAAIGZ0eXBpc29tAAACAGlzb21pc28yYXZjMW1wNDEAAAAIZnJlZQAADCltZGF0AAACrgYF//+q3EXpvebZSLeWLNgg2SPu73gyNjQgLSBjb3JlIDE1MiByMjg1NCBlOWE1OTAzIC0gSC4yNjQvTVBFRy00IEFWQyBjb2RlYyAtIENvcHlsZWZ0IDIwMDMtMjAxNyAtIGh0dHA6Ly93d3cudmlkZW9sYW4ub3JnL3gyNjQuaHRtbCAtIG9wdGlvbnM6IGNhYmFjPTEgcmVmPTMgZGVibG9jaz0xOjA6MCBhbmFseXNlPTB4MzoweDExMyBtZT1oZXggc3VibWU9NyBwc3k9MSBwc3lfcmQ9MS4wMDowLjAwIG1peGVkX3JlZj0xIG1lX3JhbmdlPTE2IGNocm9tYV9tZT0xIHRyZWxsaXM9MSA4eDhkY3Q9MSBjcW09MCBkZWFkem9uZT0yMSwxMSBmYXN0X3Bza2lwPTEgY2hyb21hX3FwX29mZnNldD0tMiB0aHJlYWRzPTMgbG9va2FoZWFkX3RocmVhZHM9MSBzbGljZWRfdGhyZWFkcz0wIG5yPTAgZGVjaW1hdGU9MSBpbnRlcmxhY2VkPTAgYmx1cmF5X2NvbXBhdD0wIGNvbnN0cmFpbmVkX2ludHJhPTAgYmZyYW1lcz0zIGJfcHlyYW1pZD0yIGJfYWRhcHQ9MSBiX2JpYXM9MCBkaXJlY3Q9MSB3ZWlnaHRiPTEgb3Blbl9nb3A9MCB3ZWlnaHRwPTIga2V5aW50PTI1MCBrZXlpbnRfbWluPTEwIHNjZW5lY3V0PTQwIGludHJhX3JlZnJlc2g9MCByY19sb29rYWhlYWQ9NDAgcmM9Y3JmIG1idHJlZT0xIGNyZj0yMy4wIHFjb21wPTAuNjAgcXBtaW49MCBxcG1heD02OSBxcHN0ZXA9NCBpcF9yYXRpbz0xLjQwIGFxPTE6MS4wMACAAAABxWWIhAAQ//73gb8yyWIkrJcfnnfSyszzzkPHfhn1hbEnSCe6damuP7ltjyAGVLo8BOlSXodzC/ekVA4gCOvZtlRjRqQO//BVpzkQIwie7H2fz3Tztv1deygsMN0v4culjkNn36ragXxgbd5KG39PDcutCFxMcTA3XlARsTpkBkSfu5mA/yiKKga9FNf75RRv5TULpSaCjQj51rrC5e7LcI9OF2Ql2A40vQgAlHpXrx9Gk9zQPlgb3iM/CIbPkMGvzvegJMoQdefavtfIQUPQ6EJrWOAfOXmdU3rBZ3LPOiKJ3N50yitz350eyoE+g2BD2Ec8OEtSCKMD70OgnVhFsNYaQcQc9gjJuZXnvQGo9sa1fpXAw395zIuJ8kd7yXfxpRfH2n7jBMKC+IDQ/Zg+9Yf4okQRHVGTTSmySsx+M+N/+6IWa3avDmOYksE9w8H7sLvCX/4qOw7+uOMBZUcNkZwo2LnIt79K2IBGIG+Z9rnAgJBfqM/y78sd4Wg/XBz/hdd4Fv/WpSqp9pE1b7GLcMDH78FJ1WzUWA93hA/riCJtWMkctyTWG6dD+fVU+jiL5HYYEYbkuKehEwCdJWD1SNi/gqNrtQAAAP1BmiJsQR/+tSqdM7yc1ADjfLJKPpoGnnnSN4alAnA3SdbKGOeH68ZFumaddX/TzTvxO8Zz+8GMKLtmv9UiQGby5EgqAJ1xbI62cf3biGQPnrwDCLGMP3P1R84eNU4usmTCFLyzAn+ocqLbjukCyL/b/Chd7cWTkrhHmCZEE/tR5QpyWuf4iRd3anqdtIq2tdGQS/5AMjNqEVhHI/skXukj/FXW0UuIvGbUv8JKBZHf1KqX7vn0Mx+sEa8gaD4kudiZVZJ4SzauilAbzL8kfHoN4GhSHVt3cKRIDYUOG3SqEElAhrVRVIR1/73YRqrOwOHS/RXTNP4K4X5Q09OAAAAAsQGeQXkN/wNDc4uUcFgh5oAJ29B6WjN3v/8tPpX2dLMEnyTsyn3RJFKWHoPoHzol0Cn/xDxolZfxm1gWq30hmsQ5jeswB2P6QIn1/D8IfF0ELWABNx+GfNVyFR7GymyBGCQDDMVuWF331AQ8jIjIdR+hDzhM3uPwKGUyydbiyyuqLaMfvhzZzbylsbSzthwv23C0kMWlNf/xSghyl2WP95rNKBhvADuM07FjJqCabI9gcQAAAMVBmkY8IZMphBD//qpVNUiNOQ3eAG7IDJ+u4WmpVJxqCoYpvWk0VYS34Hl5Wu9y+6rmvSErABo0S/Z9wtYJoLmZAkPkgTScfGAN11zX/p9e0FqweBXWrIK7UMrK3vLvubpoWtCPl6e2sxB2+O2OYLSyMqX727XlH+qnQJcn+MW48g1kkfePmo09bc7V9tiHT6liU7jsa0SoPoDduX6tA/Gh/llsR0AA9llcwqnswHttSTW8UciAmE9niboD+tIKaQ7PFuP04AAAABBBnmRqU8O/AqIj/tlzIbXNAAAACQGeg3RDfwA1IQAAAA8BnoVqQ38DffQET+AzhiEAAADYQZqKSahBaJlMCH///qmWpUVWif36XI6abLgAdpdovf5U3/4vdaw8zkqcuf7xDYavpwEaQVp/DvavJFwya3L3lU2Mm/S26enyyPvlP+keLgLRgduf3w5IlfVwun4mfmk8ww+b6JkH5HIo4o4NwnUioNKJB+7kL2WHhpvzH1C1/s13l/NaexfslQoh9tjjAVBhTVO54zGfNjwZxkG4S+gYITwRWxuA1QOXPaAkRbXuGYhmUS2kxqXF0NMtRT3xjyzY2Kp8Yy/E+9gZv501eiv5OPd0NMXkK8mBAAAAyUGeqEURLDv/AqDS1Np4j7raqlEAGrpnk/8XFQ1Z8x5DRHBqFz2K+NyqNmN2Azz0xXVXki3hQGlF88YT1Srq4ELL3e1O9DByU1c+WFItAguCM/MnwINFKec80kTGHzdS4MRoXuu/13OHkSuoPW/ig7B2WervIrBH3jh+H8TMeqWVshbGowFWYU1QLr3wepNSitEbguCOnZ3a5kRbO9S2jutRxGTCZKSfm1Ko8gbjDKwIrQ4ossw9PmV4zv194WN59psZFext7SeZgAAAALwBnsd0Q38DeyZBABO3vYLKfQ//y5PTA5ahHUYbd+kKO9F/ut9dnrgaXKEJH9sQpt9RdRBIpo9T/4z8wNnjIAThcDZLP3uWokt9yFRpV3mi8Aw2iouPgA2iu1RnhqFoj8eUMOcfCBipeyv0lZgo4FL0Wsrsy0WOc8us0VT4L+Ifkmca7TwXVCSBrBV8NEudXYqHfd94MRlymH8u+EA/bObHnPfH0wa/vmsvVkqcrhc2WpBKJPm2uX0/awfkIAAAABIBnslqQ38C3nSGseJ2r0GCEEEAAADsQZrNSahBbJlMCG///qeEW9Dz9gjJfCVTl7yxACIPQl9h+P/x7XWZTD/GkflcFlUP+3rUPFd9CH0NnvnOW0WbAqt8WR/bSBIJKfA1StzxuCRj7VquitIKeNdPSZqkii09CZm2iV/gwscLtt1NPI9e7wJXrz38v3cWuBHfEY08T9D52EFCIQhLPvShlnrwJDMshC5QyvY8MxeMXcjYD+AMqO73Nxe/XN00GRdSy6YB1dkRGDORxP2tzv8dZFAmat5pS3BbdsRkEpWU7YZx6UGLh8hsovpkGxpxrEOJcWz0/dLgXbVTSREcJIrxbl0AAAC5QZ7rRRUsN/8CUEHCxMVAhACavQelozd7//LT6X6UISVrmxZ99h33IqQ4dmCo0S6BLpzFkfOoQwp1rWBasbgveDtNHomtt/63Myz+GtmP6wC3nk0GI+MQlhGrXkV8rTg1m2MFvQNOfqiekGuxiKWEiTU2oQc3g+4MF2xercr+n1uk/rRja3jXhPz6quDUXOFwb3w3Zr4fe8XTgxVsqnrCkLC64KUE0Y54GG9c21udHwIR08RbqKKF4+YAAADDAZ8MakN/Amvkpq1sTXA2nJfViAAPikI1KqFL2sQ48hlvCgjbFqfXld84OPw3PrCxVj1cVHANiakiaysOcBH0eubFsGwWgDYylXi+NBnEpuBmSyl7zLo4bmwoqpFmvAK4RuHi7AAdykTGOQjU4eOFHDC0Bvm9dx0Y6jASC0HPDOHg5MoXFCf3VtU4fn39VPpWeU3DdayhXYR+ZGIpwLDaKGemylM51AQUycujLJm6Xw4BKZ0xrWl8ULjEPt+ERfV1EgVZAAADsW1vb3YAAABsbXZoZAAAAAAAAAAAAAAAAAAAA+gAAAV4AAEAAAEAAAAAAAAAAAAAAAABAAAAAAAAAAAAAAAAAAAAAQAAAAAAAAAAAAAAAAAAQAAAAAAAAAAAAAAAAAAAAAAAAAAAAAAAAAAAAAAAAAIAAALbdHJhawAAAFx0a2hkAAAAAwAAAAAAAAAAAAAAAQAAAAAAAAV4AAAAAAAAAAAAAAAAAAAAAAABAAAAAAAAAAAAAAAAAAAAAQAAAAAAAAAAAAAAAAAAQAAAAACgAAAAoAAAAAAAJGVkdHMAAAAcZWxzdAAAAAAAAAABAAAFeAAACAAAAQAAAAACU21kaWEAAAAgbWRoZAAAAAAAAAAAAAAAAAAAKAAAADgAVcQAAAAAAC1oZGxyAAAAAAAAAAB2aWRlAAAAAAAAAAAAAAAAVmlkZW9IYW5kbGVyAAAAAf5taW5mAAAAFHZtaGQAAAABAAAAAAAAAAAAAAAkZGluZgAAABxkcmVmAAAAAAAAAAEAAAAMdXJsIAAAAAEAAAG+c3RibAAAAJZzdHNkAAAAAAAAAAEAAACGYXZjMQAAAAAAAAABAAAAAAAAAAAAAAAAAAAAAACgAKAASAAAAEgAAAAAAAAAAQAAAAAAAAAAAAAAAAAAAAAAAAAAAAAAAAAAAAAAAAAAABj//wAAADBhdmNDAWQAC//hABdnZAALrNlChWhAAAADAEAAAAUDxQplgAEABmjr48siwAAAABhzdHRzAAAAAAAAAAEAAAAOAAAEAAAAABRzdHNzAAAAAAAAAAEAAAABAAAAeGN0dHMAAAAAAAAADQAAAAEAAAgAAAAAAQAADAAAAAABAAAEAAAAAAEAABQAAAAAAQAACAAAAAABAAAAAAAAAAEAAAQAAAAAAQAAFAAAAAABAAAIAAAAAAEAAAAAAAAAAQAABAAAAAABAAAQAAAAAAIAAAQAAAAAHHN0c2MAAAAAAAAAAQAAAAEAAAAOAAAAAQAAAExzdHN6AAAAAAAAAAAAAAAOAAAEewAAAQEAAAC1AAAAyQAAABQAAAANAAAAEwAAANwAAADNAAAAwAAAABYAAADwAAAAvQAAAMcAAAAUc3RjbwAAAAAAAAABAAAAMAAAAGJ1ZHRhAAAAWm1ldGEAAAAAAAAAIWhkbHIAAAAAAAAAAG1kaXJhcHBsAAAAAAAAAAAAAAAALWlsc3QAAAAlqXRvbwAAAB1kYXRhAAAAAQAAAABMYXZmNTcuODMuMTAw\" type=\"video/mp4\" />\n",
              "             </video>"
            ]
          },
          "metadata": {}
        },
        {
          "output_type": "stream",
          "name": "stdout",
          "text": [
            "Total reward: 0.892\n",
            "Total length: 6\n"
          ]
        },
        {
          "output_type": "display_data",
          "data": {
            "text/plain": [
              "<IPython.core.display.HTML object>"
            ],
            "text/html": [
              "<video alt=\"test\" autoplay \n",
              "                loop controls style=\"height: 400px;\">\n",
              "                <source src=\"data:video/mp4;base64,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\" type=\"video/mp4\" />\n",
              "             </video>"
            ]
          },
          "metadata": {}
        },
        {
          "output_type": "stream",
          "name": "stdout",
          "text": [
            "Total reward: 0.766\n",
            "Total length: 13\n"
          ]
        },
        {
          "output_type": "display_data",
          "data": {
            "text/plain": [
              "<IPython.core.display.HTML object>"
            ],
            "text/html": [
              "<video alt=\"test\" autoplay \n",
              "                loop controls style=\"height: 400px;\">\n",
              "                <source src=\"data:video/mp4;base64,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\" type=\"video/mp4\" />\n",
              "             </video>"
            ]
          },
          "metadata": {}
        }
      ],
      "source": [
        "# final reward + policy plotting for easier evaluation\n",
        "plot_learning_curve(rewards, success_rate, params.num_updates)\n",
        "for _ in range(3):\n",
        "    log_policy_rollout(policy, params.env_name, pytorch_policy=True)"
      ]
    },
    {
      "cell_type": "code",
      "execution_count": null,
      "metadata": {
        "id": "2yIha0XGJQVL"
      },
      "outputs": [],
      "source": []
    }
  ],
  "metadata": {
    "kernelspec": {
      "display_name": "Python 3",
      "language": "python",
      "name": "python3"
    },
    "language_info": {
      "codemirror_mode": {
        "name": "ipython",
        "version": 3
      },
      "file_extension": ".py",
      "mimetype": "text/x-python",
      "name": "python",
      "nbconvert_exporter": "python",
      "pygments_lexer": "ipython3",
      "version": "3.7.6"
    },
    "colab": {
      "provenance": [],
      "include_colab_link": true
    }
  },
  "nbformat": 4,
  "nbformat_minor": 0
}